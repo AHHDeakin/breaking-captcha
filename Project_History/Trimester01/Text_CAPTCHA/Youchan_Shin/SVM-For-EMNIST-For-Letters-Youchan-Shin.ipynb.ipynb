{
 "cells": [
  {
   "cell_type": "code",
   "execution_count": 1,
   "id": "4877bc10",
   "metadata": {},
   "outputs": [
    {
     "name": "stdout",
     "output_type": "stream",
     "text": [
      "Requirement already satisfied: emnist in /Users/andyshin/opt/anaconda3/lib/python3.8/site-packages (0.0)\n",
      "Requirement already satisfied: tqdm in /Users/andyshin/opt/anaconda3/lib/python3.8/site-packages (from emnist) (4.59.0)\n",
      "Requirement already satisfied: numpy in /Users/andyshin/opt/anaconda3/lib/python3.8/site-packages (from emnist) (1.22.3)\n",
      "Requirement already satisfied: requests in /Users/andyshin/opt/anaconda3/lib/python3.8/site-packages (from emnist) (2.25.1)\n",
      "Requirement already satisfied: chardet<5,>=3.0.2 in /Users/andyshin/opt/anaconda3/lib/python3.8/site-packages (from requests->emnist) (4.0.0)\n",
      "Requirement already satisfied: urllib3<1.27,>=1.21.1 in /Users/andyshin/opt/anaconda3/lib/python3.8/site-packages (from requests->emnist) (1.26.4)\n",
      "Requirement already satisfied: certifi>=2017.4.17 in /Users/andyshin/opt/anaconda3/lib/python3.8/site-packages (from requests->emnist) (2021.10.8)\n",
      "Requirement already satisfied: idna<3,>=2.5 in /Users/andyshin/opt/anaconda3/lib/python3.8/site-packages (from requests->emnist) (2.10)\n"
     ]
    }
   ],
   "source": [
    "!pip install emnist"
   ]
  },
  {
   "cell_type": "code",
   "execution_count": 2,
   "id": "ce3244e6",
   "metadata": {},
   "outputs": [],
   "source": [
    "#Install EMIST library, import datasets of letters, Matplotlib\n",
    "import numpy as np\n",
    "import pandas as pd\n",
    "from sklearn.model_selection import train_test_split\n",
    "from sklearn.svm import SVC\n",
    "from sklearn.metrics import confusion_matrix\n",
    "from sklearn.model_selection import validation_curve\n",
    "from sklearn.model_selection import KFold\n",
    "from sklearn.model_selection import cross_val_score\n",
    "from sklearn.model_selection import GridSearchCV\n",
    "import matplotlib.pyplot as plt\n",
    "import seaborn as sns\n",
    "import matplotlib as mpl\n",
    "import matplotlib.pyplot as plt\n",
    "%matplotlib inline"
   ]
  },
  {
   "cell_type": "code",
   "execution_count": 3,
   "id": "64fd9992",
   "metadata": {},
   "outputs": [
    {
     "data": {
      "text/plain": [
       "['balanced', 'byclass', 'bymerge', 'digits', 'letters', 'mnist']"
      ]
     },
     "execution_count": 3,
     "metadata": {},
     "output_type": "execute_result"
    }
   ],
   "source": [
    "  from emnist import list_datasets\n",
    "  list_datasets()\n",
    "  #['balanced', 'byclass', 'bymerge', 'digits', 'letters', 'mnist']"
   ]
  },
  {
   "cell_type": "code",
   "execution_count": 4,
   "id": "e7bf2c23",
   "metadata": {},
   "outputs": [
    {
     "name": "stdout",
     "output_type": "stream",
     "text": [
      "(124800, 28, 28)\n",
      "(124800,)\n"
     ]
    }
   ],
   "source": [
    "from emnist import extract_training_samples\n",
    "train_images, train_labels = extract_training_samples('letters')\n",
    "print(train_images.shape)\n",
    "print(train_labels.shape)"
   ]
  },
  {
   "cell_type": "code",
   "execution_count": 5,
   "id": "13a2266b",
   "metadata": {},
   "outputs": [
    {
     "name": "stdout",
     "output_type": "stream",
     "text": [
      "(20800, 28, 28)\n",
      "(20800,)\n"
     ]
    }
   ],
   "source": [
    "from emnist import extract_test_samples\n",
    "test_images, test_labels = extract_test_samples('letters')\n",
    "print(test_images.shape)\n",
    "print(test_labels.shape)"
   ]
  },
  {
   "cell_type": "code",
   "execution_count": 6,
   "id": "2b2be037",
   "metadata": {},
   "outputs": [],
   "source": [
    "train_data = pd.DataFrame(train_images.reshape(124800,784))\n",
    "train_labels = pd.DataFrame(train_labels.reshape(124800))\n",
    "test_data = pd.DataFrame(test_images.reshape(20800,784))"
   ]
  },
  {
   "cell_type": "code",
   "execution_count": 7,
   "id": "3ec10714",
   "metadata": {},
   "outputs": [
    {
     "name": "stdout",
     "output_type": "stream",
     "text": [
      "(124800, 784)\n",
      "(20800, 784)\n"
     ]
    }
   ],
   "source": [
    "print(train_data.shape)\n",
    "print(test_data.shape)"
   ]
  },
  {
   "cell_type": "code",
   "execution_count": 8,
   "id": "b3ed8c8c",
   "metadata": {},
   "outputs": [
    {
     "name": "stderr",
     "output_type": "stream",
     "text": [
      "/Users/andyshin/opt/anaconda3/lib/python3.8/site-packages/seaborn/_decorators.py:36: FutureWarning: Pass the following variable as a keyword arg: x. From version 0.12, the only valid positional argument will be `data`, and passing other arguments without an explicit keyword will result in an error or misinterpretation.\n",
      "  warnings.warn(\n"
     ]
    },
    {
     "data": {
      "text/plain": [
       "<AxesSubplot:xlabel='label', ylabel='count'>"
      ]
     },
     "execution_count": 8,
     "metadata": {},
     "output_type": "execute_result"
    },
    {
     "data": {
      "image/png": "[encoded data removed]",
      "text/plain": [
       "<Figure size 432x288 with 1 Axes>"
      ]
     },
     "metadata": {
      "needs_background": "light"
     },
     "output_type": "display_data"
    }
   ],
   "source": [
    "train_data = train_labels.join(train_data,how='left',lsuffix=\"left\",rsuffix=\"\")\n",
    "train_data = train_data.rename(columns={'0left':'label'})\n",
    "sns.countplot(train_data[\"label\"])"
   ]
  },
  {
   "cell_type": "code",
   "execution_count": 9,
   "id": "1578d7d8",
   "metadata": {},
   "outputs": [
    {
     "name": "stderr",
     "output_type": "stream",
     "text": [
      "/Users/andyshin/opt/anaconda3/lib/python3.8/site-packages/seaborn/_decorators.py:36: FutureWarning: Pass the following variable as a keyword arg: x. From version 0.12, the only valid positional argument will be `data`, and passing other arguments without an explicit keyword will result in an error or misinterpretation.\n",
      "  warnings.warn(\n"
     ]
    },
    {
     "data": {
      "text/plain": [
       "1     4800\n",
       "2     4800\n",
       "25    4800\n",
       "24    4800\n",
       "23    4800\n",
       "22    4800\n",
       "21    4800\n",
       "20    4800\n",
       "19    4800\n",
       "18    4800\n",
       "17    4800\n",
       "16    4800\n",
       "15    4800\n",
       "14    4800\n",
       "13    4800\n",
       "12    4800\n",
       "11    4800\n",
       "10    4800\n",
       "9     4800\n",
       "8     4800\n",
       "7     4800\n",
       "6     4800\n",
       "5     4800\n",
       "4     4800\n",
       "3     4800\n",
       "26    4800\n",
       "Name: label, dtype: int64"
      ]
     },
     "execution_count": 9,
     "metadata": {},
     "output_type": "execute_result"
    },
    {
     "data": {
      "image/png": "[encoded data removed]",
      "text/plain": [
       "<Figure size 432x288 with 1 Axes>"
      ]
     },
     "metadata": {
      "needs_background": "light"
     },
     "output_type": "display_data"
    }
   ],
   "source": [
    "## Visualizing the number of class and counts in the datasets\n",
    "plt.plot(figure = (16,10))\n",
    "g = sns.countplot( train_data[\"label\"], palette = 'icefire')\n",
    "plt.title('NUmber of digit classes')\n",
    "train_data.label.astype('category').value_counts()"
   ]
  },
  {
   "cell_type": "code",
   "execution_count": 10,
   "id": "638fd996",
   "metadata": {},
   "outputs": [
    {
     "data": {
      "text/plain": [
       "Text(0.5, 1.0, 'Digit 4')"
      ]
     },
     "execution_count": 10,
     "metadata": {},
     "output_type": "execute_result"
    },
    {
     "data": {
      "image/png": "[encoded data removed]",
      "text/plain": [
       "<Figure size 432x288 with 1 Axes>"
      ]
     },
     "metadata": {
      "needs_background": "light"
     },
     "output_type": "display_data"
    }
   ],
   "source": [
    "four = train_data.iloc[3, 1:]\n",
    "four.shape\n",
    "four = four.values.reshape(28,28)\n",
    "plt.imshow(four, cmap='gray')\n",
    "plt.title(\"Digit 4\")"
   ]
  },
  {
   "cell_type": "code",
   "execution_count": 11,
   "id": "72f8323f",
   "metadata": {},
   "outputs": [
    {
     "data": {
      "text/plain": [
       "0      0.0\n",
       "1      0.0\n",
       "2      0.0\n",
       "3      0.0\n",
       "4      0.0\n",
       "      ... \n",
       "779    0.0\n",
       "780    0.0\n",
       "781    0.0\n",
       "782    0.0\n",
       "783    0.0\n",
       "Length: 784, dtype: float64"
      ]
     },
     "execution_count": 11,
     "metadata": {},
     "output_type": "execute_result"
    }
   ],
   "source": [
    "round(train_data.drop('label', axis=1).mean(), 2)"
   ]
  },
  {
   "cell_type": "code",
   "execution_count": 12,
   "id": "403d2727",
   "metadata": {},
   "outputs": [
    {
     "name": "stdout",
     "output_type": "stream",
     "text": [
      "(124800, 785)\n"
     ]
    }
   ],
   "source": [
    "y = train_data['label']\n",
    "\n",
    "## Dropping the variable 'label' from X variable \n",
    "X = train_data.drop(columns = 'label')\n",
    "\n",
    "## Printing the size of data \n",
    "print(train_data.shape)"
   ]
  },
  {
   "cell_type": "code",
   "execution_count": 13,
   "id": "c040d19d",
   "metadata": {},
   "outputs": [
    {
     "name": "stdout",
     "output_type": "stream",
     "text": [
      "X: (124800, 784)\n",
      "test_data: (20800, 784)\n"
     ]
    }
   ],
   "source": [
    "## Normalization\n",
    "\n",
    "X = X/255.0\n",
    "test_data = test_data/255.0\n",
    "\n",
    "print(\"X:\", X.shape)\n",
    "print(\"test_data:\", test_data.shape)"
   ]
  },
  {
   "cell_type": "code",
   "execution_count": 14,
   "id": "2a1792a1",
   "metadata": {},
   "outputs": [],
   "source": [
    "# confusion matrix and accuracy\n",
    "# scaling the features\n",
    "from sklearn.preprocessing import scale\n",
    "X_scaled = scale(X)\n",
    "X_train, X_test, y_train, y_test = train_test_split(X_scaled, y, test_size = 0.3, train_size = 0.2 ,random_state = 10)\n"
   ]
  },
  {
   "cell_type": "code",
   "execution_count": 15,
   "id": "3889a1c7",
   "metadata": {},
   "outputs": [],
   "source": [
    "# linear model\n",
    "\n",
    "model_linear = SVC(kernel='linear')\n",
    "model_linear.fit(X_train, y_train)\n",
    "\n",
    "# predict\n",
    "y_pred = model_linear.predict(X_test)\n",
    "\n"
   ]
  },
  {
   "cell_type": "code",
   "execution_count": 16,
   "id": "e6da03f5",
   "metadata": {},
   "outputs": [
    {
     "name": "stdout",
     "output_type": "stream",
     "text": [
      "accuracy: 0.7104166666666667 \n",
      "\n",
      "[[ 948   16   22   42   43   13   48   52    1    1   22    6   33   42\n",
      "    22   12   46   11    2    3   27    4   20    9    7   13]\n",
      " [  20 1146    4   62   12    2   49   46    7   14    9    9    9    5\n",
      "    16    7    5    1    5    4    4    2    6    6    4   15]\n",
      " [  18    2 1199    6   75    8   25    2    4    4    2   12    0    3\n",
      "    19    4   16    7    6    5    8    1    0    1    0    7]\n",
      " [  33  135    9  909    2    3   13   43   13   43    8   26    1    9\n",
      "    77   22    7    0    5    4   16    5   10    3    2   10]\n",
      " [  50   21  171    3 1041    8   30    3    1    1   19    2    1    2\n",
      "    10    5   13   35    2   11    6    7    6    6    0   14]\n",
      " [  11    1    8    5   10 1110   23   14   19   15    5    2    2    2\n",
      "     0   95   21   36    9   52    0    2    1    3    6    7]\n",
      " [  74   51   26   14   10   20  784   10    5   47    9    2   11    2\n",
      "    11   14  225    5   38   14    9    2    8    6   17   15]\n",
      " [  40   60    1   21    3    4    4 1003   23    6   60   19   24   60\n",
      "     0    2    0    1    1    6   16    7   12   14    4    2]\n",
      " [   1    3    2    6    0   10    7    5  927   67    3  311    0    0\n",
      "     0    2    1    3   15    7    1    3    0   13    8   21]\n",
      " [   0   11    4   61    0   12   48    7   93 1121    0   15    2    0\n",
      "     7    6   10    4   34   11    9    3    1    1    9    6]\n",
      " [  16   11   41   15   23   13    2  107   15    3  994   18   11   14\n",
      "     1    0    3   40    1   23    5   17   10   72    6    7]\n",
      " [   0   11   33   11    3    1    1   10  457   17   19  838    0    0\n",
      "     0    0    0    2    0    4   13    2    0   10   14    4]\n",
      " [  23    0    1    2    5    1    7   11    0    0    4    0 1260   63\n",
      "     2    2    9    5    0    3    6    2   16    0    5    2]\n",
      " [  93    8    5    6    7    4    3   58    0    2   21    0  107  918\n",
      "    12   13    4   20    0    6   16   42   40    7    9    4]\n",
      " [  30   13   48   43    8    0   24    2    3    3    0    0    2   20\n",
      "  1255    0    3    1    5    3    5    0    0    1    1    1]\n",
      " [   9    3    2    5    3  150    8    2    2    0    5    1    1   10\n",
      "     7 1147   24   20    1   34    1    1    4    1   11    0]\n",
      " [ 111   15   17   26   10   53  289    4    5    8    7    7    6    5\n",
      "    18   26  762    5   12   32    7    2    8   13   10   11]\n",
      " [  51    3   25    2   46   61    6   23    8    0   80    1   13   20\n",
      "     4   27   26  966    1   34    3   20    3   14   11    9]\n",
      " [   7   36    8    6    3    8   96    3   11   57    3    3    1    4\n",
      "     3    1   21    1 1102    4    1    2    2    2    2    2]\n",
      " [  22   12   24    4   31  128   11   54   46   49   18   10    6    2\n",
      "     6   22   22   81    5  775    0   14    2    6   70   13]\n",
      " [  54   12    4   47   11    0    5   19    0    9   11   11    3   34\n",
      "    22    1    4    2    1    1 1037   64   42    5    7    3]\n",
      " [   1    2    1    9    6    6    4    6    6   12   24   10    1   30\n",
      "     1    0    1   36    2    7  100 1077   12   10   45    2]\n",
      " [  24   10    0   15    1    3    3   29    0    3   16    1   17   46\n",
      "     1    1    0    4    1    4   54   22 1181    2    0    6]\n",
      " [  21    4    1    2    4   13    2   16   70    6   72   27    5   12\n",
      "     0    4    6   16    3    8    0   36    3 1028   42    5]\n",
      " [   4    9    0    7    2    8   22   10   32   43    5   29   14    8\n",
      "     1   15   12   15    1   84    8   95    2   61  999    1]\n",
      " [  16   33   17   34   21    5   15    3   40   36   11   22    9   18\n",
      "     0    2   18   10   11   14    4    0    3   28    3 1071]]\n"
     ]
    }
   ],
   "source": [
    "# confusion matrix and accuracy\n",
    "\n",
    "from sklearn import metrics\n",
    "from sklearn.metrics import confusion_matrix\n",
    "# accuracy\n",
    "print(\"accuracy:\", metrics.accuracy_score(y_true=y_test, y_pred=y_pred), \"\\n\")\n",
    "\n",
    "# cm\n",
    "print(metrics.confusion_matrix(y_true=y_test, y_pred=y_pred))"
   ]
  },
  {
   "cell_type": "code",
   "execution_count": 17,
   "id": "d3d44e59",
   "metadata": {},
   "outputs": [],
   "source": [
    "# non-linear model\n",
    "# using rbf kernel, C=1, default value of gamma\n",
    "\n",
    "# model\n",
    "non_linear_model = SVC(kernel='rbf')\n",
    "\n",
    "# fit\n",
    "non_linear_model.fit(X_train, y_train)\n",
    "\n",
    "# predict\n",
    "y_pred = non_linear_model.predict(X_test)"
   ]
  },
  {
   "cell_type": "code",
   "execution_count": 18,
   "id": "a79a2991",
   "metadata": {},
   "outputs": [
    {
     "name": "stdout",
     "output_type": "stream",
     "text": [
      "accuracy: 0.8386485042735042 \n",
      "\n",
      "[[1168    4    4   19   21    2   23   27    0    0   12    2   13   19\n",
      "    22   11   54    5    2    3   10    1   36    1    2    4]\n",
      " [  20 1272    0   28    5    2   18   22    3    5    2   13    5    6\n",
      "     9    7    8    1    0    1    2    0   32    1    1    6]\n",
      " [  18    4 1272    4   39    7    7    4    3    2    3    7    0    0\n",
      "    13    5   13   10    2    2    1    0   17    1    0    0]\n",
      " [  19   46    1 1148    0    2    5    3    2   16    8   16    0    2\n",
      "    71    7    7    0    1    2    8    1   37    2    2    2]\n",
      " [  23   13   71    3 1274    9    3    1    0    0    6    1    2    1\n",
      "     8    1   10   13    2    8    1    0    6    2    0   10]\n",
      " [   8    3    2    3    2 1229    4    4    7    4    4    8    0    1\n",
      "     0   66   10   28    5   35    0    0   28    2    4    2]\n",
      " [  39   37   11    7    5    9  956    3    4   16    2    0    2    2\n",
      "     3    7  250    7   15    9    4    1   30    2    2    6]\n",
      " [  22   10    0   15    1    3    1 1163    7    2   44   19   19   35\n",
      "     0    1    2    1    0    6    3    0   27    9    2    1]\n",
      " [   1    1    1    6    0    7    2    3 1008   33    5  284    0    1\n",
      "     0    2    3    7    2    4    0    0    9    7    4   26]\n",
      " [   1    4    1   35    0    5   15    4   44 1228    0   33    1    0\n",
      "     1    0    4    1   15   23   11    2   42    0    5    0]\n",
      " [   5    8    8    3    0    4    0   56    3    2 1239    6    7    6\n",
      "     0    1    4    5    0   13    4    6   50   29    6    3]\n",
      " [   0    5   14    6    2    4    1    9  341    5    5 1017    0    0\n",
      "     0    0    1    1    0    1    6    1    7    5   11    8]\n",
      " [  17    0    0    0    0    1    1    7    0    0    6    0 1299   36\n",
      "     0    1    2    1    0    0    1    0   51    1    3    2]\n",
      " [  35    3    0    8    3    2    0   33    0    0   22    0   34 1201\n",
      "     1    4    1    4    0    2    6    4   32    7    1    2]\n",
      " [  16    7    3   13    1    0   10    1    3    1    0    0    1   16\n",
      "  1385    2    2    1    0    1    4    0    3    1    0    0]\n",
      " [  10    1    1    4    0   43    4    0    1    2    3    1    0    6\n",
      "     4 1299   13   10    0   14    0    0   32    0    4    0]\n",
      " [  51    6    2   11    6   24  143    1    6    1    4    2    2    2\n",
      "    18   19 1095    3    3   12    5    1   44    2    6    0]\n",
      " [  56    3    3    1   26   19    1   11    4    0   39    0    6   12\n",
      "     0   23   16 1172    0   14    0   16   11   11    6    7]\n",
      " [   7   14    5    5    2    3   35    1    6   36    1    1    1    0\n",
      "     3    0    5    1 1249    2    0    1    6    3    1    1]\n",
      " [   9    3    9    5   11   24    2   11   16    7    5   19    0    0\n",
      "     0    4    5   23    1 1204    0    4   22    2   42    5]\n",
      " [  21    4    1   12    4    0    1   13    0    1   12    1    4   10\n",
      "     6    0    5    0    0    1 1211   45   48    3    2    4]\n",
      " [   0    3    0    3    0    3    0    3    2    6    6    1    1    4\n",
      "     1    0    4   31    1    3   57 1233   15    4   30    0]\n",
      " [   4    1    0    2    0    1    0    6    0    1    9    0    7   24\n",
      "     0    0    0    0    0    3    9    8 1366    2    1    0]\n",
      " [  13    1    0    2    1    3    1   10    3    3   54    3    2    3\n",
      "     0    1    7   10    0    9    0   11   17 1204   42    6]\n",
      " [   1    6    0    9    1    1   10    9    8   25    6   20    2    2\n",
      "     0    4    6   19    1   20   14   64   32   11 1215    1]\n",
      " [   6   15    5    7   10    2    7    0    5   21    4    4    2    3\n",
      "     0    1    6    0    1    9    1    0   37    6    0 1292]]\n"
     ]
    }
   ],
   "source": [
    "# confusion matrix and accuracy\n",
    "\n",
    "# accuracy\n",
    "print(\"accuracy:\", metrics.accuracy_score(y_true=y_test, y_pred=y_pred), \"\\n\")\n",
    "\n",
    "# cm\n",
    "print(metrics.confusion_matrix(y_true=y_test, y_pred=y_pred))"
   ]
  },
  {
   "cell_type": "code",
   "execution_count": null,
   "id": "35b0c911",
   "metadata": {},
   "outputs": [],
   "source": []
  }
 ],
 "metadata": {
  "kernelspec": {
   "display_name": "Python 3",
   "language": "python",
   "name": "python3"
  },
  "language_info": {
   "codemirror_mode": {
    "name": "ipython",
    "version": 3
   },
   "file_extension": ".py",
   "mimetype": "text/x-python",
   "name": "python",
   "nbconvert_exporter": "python",
   "pygments_lexer": "ipython3",
   "version": "3.8.3"
  }
 },
 "nbformat": 4,
 "nbformat_minor": 5
}
