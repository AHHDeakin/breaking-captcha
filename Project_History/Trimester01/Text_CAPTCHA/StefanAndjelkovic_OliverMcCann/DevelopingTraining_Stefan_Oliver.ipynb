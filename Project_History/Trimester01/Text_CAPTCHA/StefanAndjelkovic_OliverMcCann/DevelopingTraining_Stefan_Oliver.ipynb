{
 "cells": [
  {
   "cell_type": "markdown",
   "id": "0ee91bcf",
   "metadata": {},
   "source": [
    "## SIT374 - Harhdhat Enterprises\n",
    "### Breaking CAPTCHA - TextCAPTCHA\n",
    "### CaptchaSolvingWithDeepLearning\n",
    "#### Training the Pre-Processing Model on various types of CATPCHA datasets\n",
    "#### Stefan Andjelkovic – 219192086\n",
    "#### Oliver McCann - 219184952 \n"
   ]
  },
  {
   "cell_type": "code",
   "execution_count": 2,
   "id": "6750ce4c",
   "metadata": {},
   "outputs": [
    {
     "name": "stderr",
     "output_type": "stream",
     "text": [
      "ERROR: Invalid requirement: \"#'import\"\n"
     ]
    }
   ],
   "source": [
    "!pip install opencv-python #'import cv2' records an error at execution, this avoids it. \n",
    "                            #This may not be necessary "
   ]
  },
  {
   "cell_type": "markdown",
   "id": "070ff5a9",
   "metadata": {},
   "source": [
    "### - Importing pre-processing chunk - (Renee)"
   ]
  },
  {
   "cell_type": "code",
   "execution_count": 4,
   "id": "1879abe2",
   "metadata": {},
   "outputs": [],
   "source": [
    "import cv2 \n",
    "import numpy as np \n",
    "import glob\n",
    "from scipy import misc\n",
    "import matplotlib.pyplot as plt\n",
    "\n",
    "\n",
    "path = glob.glob(\"enter_folder_or_path_here\") #storing the location of all the images in variable path\n",
    "outpath = (\"enter_folder_orpath_here\")\n",
    "#imgs = [] #creating an empty list\n",
    "\n",
    "image_no = 1\n",
    "for img in path: #running a loop to iterate through every image in the file\n",
    "    pic = cv2.imread(img) #reading the image using matplotlib\n",
    "    gray_pic = cv2.cvtColor(pic, cv2.COLOR_BGR2GRAY) #converting the image into grayscale\n",
    "    r, threshold = cv2.threshold(gray_pic, 110, 255, cv2.THRESH_OTSU) #converting the image into grayscale using the histogram method\n",
    "    \n",
    "    # need add de-noise element from exploration python file.\n",
    "    \n",
    "\n",
    "    ## This will write out code to a new folder on the local host - may need remove\n",
    "    cv2.imwrite(outpath + str(image_no) + '.jpg', threshold) # write to the test_pImg folder \n",
    "    image_no +=1 "
   ]
  },
  {
   "cell_type": "markdown",
   "id": "f31edce9",
   "metadata": {},
   "source": [
    "### Importing & Training Text-CAPTCHA Dataset (Github)"
   ]
  },
  {
   "cell_type": "code",
   "execution_count": null,
   "id": "695040ee",
   "metadata": {},
   "outputs": [],
   "source": [
    "dataImages = [] #creates an array for captcha in the database\n",
    "dataNames = [] #creates an array for names for the captcha in the database\n",
    "\n",
    "for file in paths.list_images(\"enter_database_folder_or_path\"):\n",
    "    image = cv2.imread(\"image_file\")\n",
    "    image = np.expand_dims(image, cv2.COLOR_BGR2GRAY)\n",
    "# may not be needed due to first step, \n",
    "\n",
    " label = image_file.split(os.path.sep)[-2]\n",
    "# collects the name of the captcha based on its name \n",
    "    \n",
    "    dataImages.append(image)\n",
    "    dataLabels.append(Names)\n",
    "# adds these variables to the array "
   ]
  },
  {
   "cell_type": "code",
   "execution_count": null,
   "id": "97bc7eca",
   "metadata": {},
   "outputs": [],
   "source": [
    "DATA_NAMES_FILENAME = \"data_names.dat\"\n",
    "\n",
    "dataImages = np.array(dataImages)/255\n",
    "dataNames = np.array(dataNames)\n",
    "\n",
    "encoder = LabelBinarizer()\n",
    "dataLabels = encoder.fit_transform(dataNames)\n",
    "# perform the transform operation of LabelBinarizer with fixed classes\n",
    "\n",
    "# Split the data for training \n",
    "(Xtrain, Xtest, Ytrain, Ytest) = train_test_split(dataImages, dataNames, test_size=0.25, random_state=0)\n",
    "\n",
    "with open(DATA_NAMES_FILENAME, \"wb\") as f:\n",
    "    pickle.dump(encoder, f)"
   ]
  },
  {
   "cell_type": "markdown",
   "id": "e9d524d0",
   "metadata": {},
   "source": [
    "### Importing & Training image-CAPTCHA Dataset (Github)"
   ]
  },
  {
   "cell_type": "code",
   "execution_count": null,
   "id": "d22dd9c9",
   "metadata": {},
   "outputs": [],
   "source": []
  },
  {
   "cell_type": "code",
   "execution_count": null,
   "id": "efe4a16f",
   "metadata": {},
   "outputs": [],
   "source": []
  },
  {
   "cell_type": "code",
   "execution_count": null,
   "id": "6f889d16",
   "metadata": {},
   "outputs": [],
   "source": []
  },
  {
   "cell_type": "markdown",
   "id": "dc10ba86",
   "metadata": {},
   "source": [
    "### Generating Our own CAPTCHA's and Training Them "
   ]
  },
  {
   "cell_type": "markdown",
   "id": "8b8ef53e",
   "metadata": {},
   "source": [
    "#### Creating Our own Image captcha "
   ]
  },
  {
   "cell_type": "code",
   "execution_count": null,
   "id": "583a9d87",
   "metadata": {},
   "outputs": [],
   "source": [
    "# Generating a library of our own image-captchas may be a useful alternative if we struggle with the currently provided github datasets."
   ]
  },
  {
   "cell_type": "code",
   "execution_count": 10,
   "id": "dab85ad5",
   "metadata": {},
   "outputs": [
    {
     "name": "stdout",
     "output_type": "stream",
     "text": [
      "Requirement already satisfied: captcha in c:\\users\\stefa\\anaconda3\\lib\\site-packages (0.4)\n",
      "Requirement already satisfied: Pillow in c:\\users\\stefa\\anaconda3\\lib\\site-packages (from captcha) (8.4.0)\n",
      "Note: you may need to restart the kernel to use updated packages.\n"
     ]
    }
   ],
   "source": [
    "pip install captcha"
   ]
  },
  {
   "cell_type": "code",
   "execution_count": 6,
   "id": "1fa4eee3",
   "metadata": {},
   "outputs": [],
   "source": [
    "from captcha.image import ImageCaptcha"
   ]
  },
  {
   "cell_type": "code",
   "execution_count": 12,
   "id": "3015d23d",
   "metadata": {},
   "outputs": [],
   "source": [
    "testimage = ImageCaptcha() "
   ]
  },
  {
   "cell_type": "code",
   "execution_count": 13,
   "id": "684dcb25",
   "metadata": {},
   "outputs": [],
   "source": [
    "testdata = image.generate('123456')"
   ]
  },
  {
   "cell_type": "code",
   "execution_count": 27,
   "id": "7cdfd446",
   "metadata": {},
   "outputs": [],
   "source": [
    "image.write('123456','test-captcha.jpg') #The image-captcha will be downloaded to the juptyr task library. "
   ]
  },
  {
   "cell_type": "code",
   "execution_count": 26,
   "id": "5b3a81bd",
   "metadata": {},
   "outputs": [],
   "source": []
  },
  {
   "cell_type": "code",
   "execution_count": 9,
   "id": "ef02a1f5",
   "metadata": {},
   "outputs": [
    {
     "name": "stdout",
     "output_type": "stream",
     "text": [
      "063033\n"
     ]
    },
    {
     "data": {
      "image/png": "[encoded data removed]",
      "text/plain": [
       "<Figure size 432x288 with 1 Axes>"
      ]
     },
     "metadata": {
      "needs_background": "light"
     },
     "output_type": "display_data"
    }
   ],
   "source": [
    "\n",
    "## Another method I found of Generating our own Image-CAPTCHAs. \n",
    "\n",
    "from captcha.image import ImageCaptcha  # pip install captcha\n",
    "import numpy as np\n",
    "import matplotlib.pyplot as plt\n",
    "from PIL import Image\n",
    "import random\n",
    "import os\n",
    "\n",
    "number = ['0','1','2','3','4','5','6','7','8','9']\n",
    "MAX_CAPTCHA = 6\n",
    "WIDTH=100\n",
    "HEIGHT=30\n",
    "\n",
    "image = ImageCaptcha(width=WIDTH, height=HEIGHT, font_sizes=[30])\n",
    "\n",
    "captcha_text = []\n",
    "for i in range(MAX_CAPTCHA):\n",
    "    c = random.choice(number)\n",
    "    captcha_text.append(c)\n",
    "    #print(captcha_text)\n",
    "captcha_text = ''.join(captcha_text)\n",
    "print(captcha_text)\n",
    "\n",
    "captcha = image.generate(captcha_text)\n",
    "captcha_image = Image.open(captcha)\n",
    "captcha_image = np.array(captcha_image)\n",
    "\n",
    "image.write(captcha_text, str(i)+'_'+captcha_text + '.png') \n",
    "plt.imshow(captcha_image)\n",
    "plt.show()"
   ]
  },
  {
   "cell_type": "markdown",
   "id": "81a1505f",
   "metadata": {},
   "source": [
    "#### Creating Our own Audio Captcha (May not have time to train model on audio-captchas)"
   ]
  },
  {
   "cell_type": "code",
   "execution_count": null,
   "id": "81b35a82",
   "metadata": {},
   "outputs": [],
   "source": [
    "#Not sure if any other groups have worked on audio-captchas\n",
    "#This section is purely theoretical, but could be useful in future work. "
   ]
  },
  {
   "cell_type": "code",
   "execution_count": 28,
   "id": "6a06bfe9",
   "metadata": {},
   "outputs": [],
   "source": [
    "from captcha.audio import AudioCaptcha "
   ]
  },
  {
   "cell_type": "code",
   "execution_count": 29,
   "id": "350e2a02",
   "metadata": {},
   "outputs": [],
   "source": [
    "audcaptcha = AudioCaptcha()"
   ]
  },
  {
   "cell_type": "code",
   "execution_count": 30,
   "id": "7a5b67fe",
   "metadata": {},
   "outputs": [],
   "source": [
    "testaudcaptcha = audcaptcha.generate('123456')"
   ]
  },
  {
   "cell_type": "code",
   "execution_count": 31,
   "id": "850dbcad",
   "metadata": {},
   "outputs": [
    {
     "data": {
      "text/plain": [
       "118088"
      ]
     },
     "execution_count": 31,
     "metadata": {},
     "output_type": "execute_result"
    }
   ],
   "source": [
    "audcaptcha.write('123456','test-audiocaptcha.waw') #AudioCaptcha will be downloaded to the juptyr task library."
   ]
  },
  {
   "cell_type": "code",
   "execution_count": null,
   "id": "f69e1e05",
   "metadata": {},
   "outputs": [],
   "source": []
  }
 ],
 "metadata": {
  "kernelspec": {
   "display_name": "Python 3",
   "language": "python",
   "name": "python3"
  },
  "language_info": {
   "codemirror_mode": {
    "name": "ipython",
    "version": 3
   },
   "file_extension": ".py",
   "mimetype": "text/x-python",
   "name": "python",
   "nbconvert_exporter": "python",
   "pygments_lexer": "ipython3",
   "version": "3.8.8"
  }
 },
 "nbformat": 4,
 "nbformat_minor": 5
}
