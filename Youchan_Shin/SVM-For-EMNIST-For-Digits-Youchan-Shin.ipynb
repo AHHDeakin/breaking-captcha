{
 "cells": [
  {
   "cell_type": "markdown",
   "id": "8cf57467-517d-437b-be9a-ce3e68f2ab05",
   "metadata": {},
   "source": [
    "https://pypi.org/project/emnist/\n",
    "\n",
    "and then fitted EMNIST to\n",
    "\n",
    "https://www.kaggle.com/code/nishan192/mnist-digit-recognition-using-svm/notebook\n",
    "\n",
    "notbook currently only running digits. Need to add in letters too!!"
   ]
  },
  {
   "cell_type": "code",
   "execution_count": 1,
   "id": "2099ab23-4070-4cc4-9507-d5dd51f6e488",
   "metadata": {},
   "outputs": [
    {
     "name": "stdout",
     "output_type": "stream",
     "text": [
      "Requirement already satisfied: emnist in /Users/ceciliasammut/opt/anaconda3/lib/python3.9/site-packages (0.0)\n",
      "Requirement already satisfied: requests in /Users/ceciliasammut/opt/anaconda3/lib/python3.9/site-packages (from emnist) (2.26.0)\n",
      "Requirement already satisfied: tqdm in /Users/ceciliasammut/opt/anaconda3/lib/python3.9/site-packages (from emnist) (4.62.3)\n",
      "Requirement already satisfied: numpy in /Users/ceciliasammut/opt/anaconda3/lib/python3.9/site-packages (from emnist) (1.20.3)\n",
      "Requirement already satisfied: idna<4,>=2.5 in /Users/ceciliasammut/opt/anaconda3/lib/python3.9/site-packages (from requests->emnist) (3.2)\n",
      "Requirement already satisfied: charset-normalizer~=2.0.0 in /Users/ceciliasammut/opt/anaconda3/lib/python3.9/site-packages (from requests->emnist) (2.0.4)\n",
      "Requirement already satisfied: certifi>=2017.4.17 in /Users/ceciliasammut/opt/anaconda3/lib/python3.9/site-packages (from requests->emnist) (2021.10.8)\n",
      "Requirement already satisfied: urllib3<1.27,>=1.21.1 in /Users/ceciliasammut/opt/anaconda3/lib/python3.9/site-packages (from requests->emnist) (1.26.7)\n"
     ]
    }
   ],
   "source": [
    "!pip install emnist"
   ]
  },
  {
   "cell_type": "code",
   "execution_count": 2,
   "id": "a97785ee-3175-4927-8526-2f35ae74a8a1",
   "metadata": {},
   "outputs": [
    {
     "data": {
      "text/plain": [
       "['balanced', 'byclass', 'bymerge', 'digits', 'letters', 'mnist']"
      ]
     },
     "execution_count": 2,
     "metadata": {},
     "output_type": "execute_result"
    }
   ],
   "source": [
    "  from emnist import list_datasets\n",
    "  list_datasets()\n",
    "  #['balanced', 'byclass', 'bymerge', 'digits', 'letters', 'mnist']"
   ]
  },
  {
   "cell_type": "code",
   "execution_count": 3,
   "id": "f7f54f6f-2e0b-4caf-a2bd-dd5c638c24ef",
   "metadata": {},
   "outputs": [
    {
     "data": {
      "text/plain": [
       "(240000, 28, 28)"
      ]
     },
     "execution_count": 3,
     "metadata": {},
     "output_type": "execute_result"
    }
   ],
   "source": [
    "from emnist import extract_training_samples\n",
    "train_images, train_labels = extract_training_samples('digits')\n",
    "train_images.shape"
   ]
  },
  {
   "cell_type": "code",
   "execution_count": 4,
   "id": "d782a277-922c-4c2a-9cf5-157ccf7e28b5",
   "metadata": {},
   "outputs": [
    {
     "name": "stdout",
     "output_type": "stream",
     "text": [
      "(40000, 28, 28)\n",
      "(40000,)\n"
     ]
    }
   ],
   "source": [
    "from emnist import extract_test_samples\n",
    "test_images, test_labels = extract_test_samples('digits')\n",
    "print(test_images.shape)\n",
    "print(test_labels.shape)"
   ]
  },
  {
   "cell_type": "code",
   "execution_count": 5,
   "id": "3d34597f-2f2f-45d3-a8c8-314e2d580988",
   "metadata": {},
   "outputs": [],
   "source": [
    "import numpy as np\n",
    "import pandas as pd\n",
    "from sklearn.model_selection import train_test_split\n",
    "from sklearn.svm import SVC\n",
    "from sklearn.metrics import confusion_matrix\n",
    "from sklearn.model_selection import validation_curve\n",
    "from sklearn.model_selection import KFold\n",
    "from sklearn.model_selection import cross_val_score\n",
    "from sklearn.model_selection import GridSearchCV\n",
    "import matplotlib.pyplot as plt\n",
    "import seaborn as sns"
   ]
  },
  {
   "cell_type": "code",
   "execution_count": 6,
   "id": "d111476b-c956-41f6-a0ab-99fd4907f3a8",
   "metadata": {},
   "outputs": [],
   "source": [
    "train_data = pd.DataFrame(train_images.reshape(240000,28*28))\n",
    "train_labels = pd.DataFrame(train_labels.reshape(240000))\n",
    "test_data = pd.DataFrame(test_images.reshape(40000,28*28))"
   ]
  },
  {
   "cell_type": "code",
   "execution_count": 7,
   "id": "a69e394e-3805-441a-9fae-e84d8d56da57",
   "metadata": {},
   "outputs": [
    {
     "name": "stdout",
     "output_type": "stream",
     "text": [
      "(240000, 784)\n",
      "(40000, 784)\n"
     ]
    }
   ],
   "source": [
    "print(train_data.shape)\n",
    "print(test_data.shape)"
   ]
  },
  {
   "cell_type": "code",
   "execution_count": 8,
   "id": "8a50a285-5679-49cd-845b-9ac126348a72",
   "metadata": {},
   "outputs": [],
   "source": [
    "train_data = train_labels.join(train_data,how='left',lsuffix=\"left\",rsuffix=\"\")"
   ]
  },
  {
   "cell_type": "code",
   "execution_count": 9,
   "id": "995a99a1-5066-499c-870d-5c1e07ba39e6",
   "metadata": {},
   "outputs": [],
   "source": [
    "train_data = train_data.rename(columns={'0left':'label'})"
   ]
  },
  {
   "cell_type": "code",
   "execution_count": 16,
   "id": "9653d403-f7dd-484f-9c5b-497f93fc8aae",
   "metadata": {},
   "outputs": [
    {
     "name": "stderr",
     "output_type": "stream",
     "text": [
      "/Users/ceciliasammut/opt/anaconda3/lib/python3.9/site-packages/seaborn/_decorators.py:36: FutureWarning: Pass the following variable as a keyword arg: x. From version 0.12, the only valid positional argument will be `data`, and passing other arguments without an explicit keyword will result in an error or misinterpretation.\n",
      "  warnings.warn(\n"
     ]
    },
    {
     "data": {
      "text/plain": [
       "<AxesSubplot:xlabel='label', ylabel='count'>"
      ]
     },
     "execution_count": 16,
     "metadata": {},
     "output_type": "execute_result"
    },
    {
     "data": {
      "image/png": "[encoded data removed]",
      "text/plain": [
       "<Figure size 432x288 with 1 Axes>"
      ]
     },
     "metadata": {
      "needs_background": "light"
     },
     "output_type": "display_data"
    }
   ],
   "source": [
    "sns.countplot(train_data[\"label\"])"
   ]
  },
  {
   "cell_type": "code",
   "execution_count": 17,
   "id": "a53da41a-2add-46f3-a6d3-f515c3532bb2",
   "metadata": {},
   "outputs": [
    {
     "name": "stderr",
     "output_type": "stream",
     "text": [
      "/Users/ceciliasammut/opt/anaconda3/lib/python3.9/site-packages/seaborn/_decorators.py:36: FutureWarning: Pass the following variable as a keyword arg: x. From version 0.12, the only valid positional argument will be `data`, and passing other arguments without an explicit keyword will result in an error or misinterpretation.\n",
      "  warnings.warn(\n"
     ]
    },
    {
     "data": {
      "text/plain": [
       "0    24000\n",
       "1    24000\n",
       "2    24000\n",
       "3    24000\n",
       "4    24000\n",
       "5    24000\n",
       "6    24000\n",
       "7    24000\n",
       "8    24000\n",
       "9    24000\n",
       "Name: label, dtype: int64"
      ]
     },
     "execution_count": 17,
     "metadata": {},
     "output_type": "execute_result"
    },
    {
     "data": {
      "image/png": "[encoded data removed]",
      "text/plain": [
       "<Figure size 432x288 with 1 Axes>"
      ]
     },
     "metadata": {
      "needs_background": "light"
     },
     "output_type": "display_data"
    }
   ],
   "source": [
    "## Visualizing the number of class and counts in the datasets\n",
    "plt.plot(figure = (16,10))\n",
    "g = sns.countplot( train_data[\"label\"], palette = 'icefire')\n",
    "plt.title('NUmber of digit classes')\n",
    "train_data.label.astype('category').value_counts()"
   ]
  },
  {
   "cell_type": "code",
   "execution_count": 18,
   "id": "c06170ef-6ef9-4b68-b020-8bfad7c3c6dd",
   "metadata": {},
   "outputs": [
    {
     "data": {
      "text/plain": [
       "Text(0.5, 1.0, 'Digit 4')"
      ]
     },
     "execution_count": 18,
     "metadata": {},
     "output_type": "execute_result"
    },
    {
     "data": {
      "image/png": "[encoded data removed]",
      "text/plain": [
       "<Figure size 432x288 with 1 Axes>"
      ]
     },
     "metadata": {
      "needs_background": "light"
     },
     "output_type": "display_data"
    }
   ],
   "source": [
    "# Plotting some samples as well as converting into matrix\n",
    "\n",
    "four = train_data.iloc[3, 1:]\n",
    "four.shape\n",
    "four = four.values.reshape(28,28)\n",
    "plt.imshow(four, cmap='gray')\n",
    "plt.title(\"Digit 4\")"
   ]
  },
  {
   "cell_type": "code",
   "execution_count": 19,
   "id": "15a2af05-2753-4c08-aee1-a9f36b5a7e4f",
   "metadata": {},
   "outputs": [
    {
     "data": {
      "text/plain": [
       "0      0.0\n",
       "1      0.0\n",
       "2      0.0\n",
       "3      0.0\n",
       "4      0.0\n",
       "      ... \n",
       "779    0.0\n",
       "780    0.0\n",
       "781    0.0\n",
       "782    0.0\n",
       "783    0.0\n",
       "Length: 784, dtype: float64"
      ]
     },
     "execution_count": 19,
     "metadata": {},
     "output_type": "execute_result"
    }
   ],
   "source": [
    "# average feature values\n",
    "round(train_data.drop('label', axis=1).mean(), 2)"
   ]
  },
  {
   "cell_type": "code",
   "execution_count": 20,
   "id": "8c6da4d0-bbaf-4b2f-a5de-b21484383169",
   "metadata": {},
   "outputs": [
    {
     "name": "stdout",
     "output_type": "stream",
     "text": [
      "(240000, 785)\n"
     ]
    }
   ],
   "source": [
    "## Separating the X and Y variable\n",
    "\n",
    "y = train_data['label']\n",
    "\n",
    "## Dropping the variable 'label' from X variable \n",
    "X = train_data.drop(columns = 'label')\n",
    "\n",
    "## Printing the size of data \n",
    "print(train_data.shape)"
   ]
  },
  {
   "cell_type": "code",
   "execution_count": 21,
   "id": "2bd42047-4c90-405c-8d7a-1a5fd5634956",
   "metadata": {},
   "outputs": [
    {
     "name": "stdout",
     "output_type": "stream",
     "text": [
      "X: (240000, 784)\n",
      "test_data: (40000, 784)\n"
     ]
    }
   ],
   "source": [
    "## Normalization\n",
    "\n",
    "X = X/255.0\n",
    "test_data = test_data/255.0\n",
    "\n",
    "print(\"X:\", X.shape)\n",
    "print(\"test_data:\", test_data.shape)"
   ]
  },
  {
   "cell_type": "code",
   "execution_count": 22,
   "id": "dc044e8c-3659-41fb-940b-cfa338a1c7da",
   "metadata": {},
   "outputs": [],
   "source": [
    "# scaling the features\n",
    "from sklearn.preprocessing import scale\n",
    "X_scaled = scale(X)\n",
    "\n",
    "# train test split\n",
    "X_train, X_test, y_train, y_test = train_test_split(X_scaled, y, test_size = 0.3, train_size = 0.2 ,random_state = 10)"
   ]
  },
  {
   "cell_type": "markdown",
   "id": "e684e180-e80c-4dab-9c88-46a2709e7363",
   "metadata": {},
   "source": [
    "Need to here to set up for optimal model"
   ]
  },
  {
   "cell_type": "markdown",
   "id": "90f3ae6d-0356-431d-b578-b20e3bde23f8",
   "metadata": {},
   "source": [
    "Below is running optiomal model"
   ]
  },
  {
   "cell_type": "code",
   "execution_count": 24,
   "id": "c02a57e1-1ab0-4961-962a-7d24838986c2",
   "metadata": {},
   "outputs": [
    {
     "name": "stdout",
     "output_type": "stream",
     "text": [
      "accuracy 0.9767083333333333 \n",
      "\n",
      "[[7165    2   32    5   13   11   13    1   13    7]\n",
      " [   0 7185   15    1    8    2    7    5    6    1]\n",
      " [  21    7 7023   34   18    4   12   13   20    5]\n",
      " [  12    6   91 7044    2   41    1   22   43    5]\n",
      " [   6    3   83    0 7118   16   24   10   10   53]\n",
      " [  14    7   65   66   15 6890   17    5   22   22]\n",
      " [  21    7   32    0    4   17 7053    0    6    1]\n",
      " [   1   19   49    9   31    7    0 7051    7   62]\n",
      " [  18   19   62   35   14   44   17   13 6882   29]\n",
      " [  10   13   26   24   70   13    1   45   14 6912]] \n",
      "\n"
     ]
    }
   ],
   "source": [
    "from sklearn import metrics\n",
    "from sklearn.metrics import confusion_matrix\n",
    "\n",
    "# model with optimal hyperparameters\n",
    "\n",
    "# model\n",
    "model = SVC(C=10, gamma=0.001, kernel=\"rbf\")\n",
    "\n",
    "model.fit(X_train, y_train)\n",
    "y_pred = model.predict(X_test)\n",
    "\n",
    "# metrics\n",
    "print(\"accuracy\", metrics.accuracy_score(y_test, y_pred), \"\\n\")\n",
    "print(metrics.confusion_matrix(y_test, y_pred), \"\\n\")"
   ]
  },
  {
   "cell_type": "code",
   "execution_count": null,
   "id": "a4af3e83-3b09-4cc2-a7f6-839825981e33",
   "metadata": {},
   "outputs": [],
   "source": []
  }
 ],
 "metadata": {
  "kernelspec": {
   "display_name": "Python 3 (ipykernel)",
   "language": "python",
   "name": "python3"
  },
  "language_info": {
   "codemirror_mode": {
    "name": "ipython",
    "version": 3
   },
   "file_extension": ".py",
   "mimetype": "text/x-python",
   "name": "python",
   "nbconvert_exporter": "python",
   "pygments_lexer": "ipython3",
   "version": "3.9.7"
  }
 },
 "nbformat": 4,
 "nbformat_minor": 5
}
