{
  "cells": [
    {
      "cell_type": "markdown",
      "metadata": {
        "id": "view-in-github",
        "colab_type": "text"
      },
      "source": [
        "<a href=\"https://colab.research.google.com/github/wanjunyuan95/breaking-captcha/blob/Text-captcha/AllDataCombiningCNN.ipynb\" target=\"_parent\"><img src=\"https://colab.research.google.com/assets/colab-badge.svg\" alt=\"Open In Colab\"/></a>"
      ]
    },
    {
      "cell_type": "code",
      "execution_count": null,
      "metadata": {
        "id": "99vSebWOxex0"
      },
      "outputs": [],
      "source": [
        "from tensorflow import keras\n",
        "import tensorflow as tf \n",
        "from tensorflow.keras import datasets, layers, models\n",
        "import numpy as np\n",
        "from tensorflow.keras.layers import BatchNormalization,Dense,Dropout,Flatten,Activation\n",
        "from keras.utils import np_utils\n",
        "from keras.layers.convolutional import Conv2D,MaxPooling2D\n",
        "from keras.constraints import maxnorm\n",
        "from keras.models import Sequential\n",
        "from keras.utils.vis_utils import plot_model\n",
        "import cv2\n",
        "import numpy\n",
        "import glob\n",
        "import pylab as plt\n",
        "import pandas as pd\n",
        "import os\n",
        "from sklearn.model_selection import train_test_split"
      ]
    },
    {
      "cell_type": "code",
      "execution_count": null,
      "metadata": {
        "id": "6ZMQhAXVxex2",
        "outputId": "ca0a3e4d-49a7-4cfb-9845-1cb9f0c7c130"
      },
      "outputs": [
        {
          "name": "stdout",
          "output_type": "stream",
          "text": [
            "check1\n",
            "(1070, 50, 200, 3)\n"
          ]
        }
      ],
      "source": [
        "#setting path to the folder\n",
        "base_image_location = os.path.join(\"/Users/ceciliasammut/OneDrive - Deakin University/MAAI/SIT764\",\"samples\")\n",
        "\n",
        "#preparing empty list for file names\n",
        "file_list = []\n",
        "\n",
        "#iterating through folder to retrieve file names and save them to the file_list folder\n",
        "#to create y dataset\n",
        "for filename in os.listdir(base_image_location):\n",
        "    if filename.endswith((\".png\",\".jpg\")):\n",
        "        file_list.append(filename.rsplit( \".\", 1)[ 0 ])\n",
        "        \n",
        "#funciton to iterate through folder to save list of imaegs\n",
        "def load_images_from_folder(folder):\n",
        "    images = []\n",
        "    for filename in os.listdir(folder):\n",
        "        if filename.endswith((\".png\",\".jpg\")):\n",
        "            #img = cv2.imread(os.path.join(folder,filename),cv2.IMREAD_GRAYSCALE)\n",
        "            img = cv2.imread(os.path.join(folder,filename))\n",
        "            images.append(img)\n",
        "    return images\n",
        "\n",
        "#running image funciton and saving the list\n",
        "#to create x dataset\n",
        "image_list = load_images_from_folder(base_image_location)\n",
        "#converting image list to numpy array\n",
        "il = np.array(image_list)\n",
        "\n",
        "print('check1')\n",
        "print(il.shape)\n",
        "\n",
        "#creating x (image) and y (labels) dataframes\n",
        "dfy = np.array(file_list)\n",
        "dfx = il\n"
      ]
    },
    {
      "cell_type": "code",
      "execution_count": null,
      "metadata": {
        "id": "fzj3eqbExex4"
      },
      "outputs": [],
      "source": [
        "### split the data ###\n",
        "X_train, X_test, Y_train, Y_test = train_test_split(dfx, dfy, test_size=0.5, random_state=42)"
      ]
    },
    {
      "cell_type": "code",
      "execution_count": null,
      "metadata": {
        "id": "lu6g_aSBxex5",
        "outputId": "9b835f3a-f076-43dd-ff82-73095a74cb51"
      },
      "outputs": [
        {
          "name": "stdout",
          "output_type": "stream",
          "text": [
            "(535, 50, 200, 3)\n",
            "(535, 50, 200, 3)\n"
          ]
        }
      ],
      "source": [
        "### Shape of the Training data ###\n",
        "print(X_train.shape)\n",
        "print(X_test.shape)"
      ]
    },
    {
      "cell_type": "code",
      "execution_count": null,
      "metadata": {
        "id": "KSDhZ-x2xex5",
        "outputId": "6dcf5737-fe92-4c9a-f205-e33066cde2ed"
      },
      "outputs": [
        {
          "name": "stdout",
          "output_type": "stream",
          "text": [
            "(535,)\n",
            "(535,)\n"
          ]
        }
      ],
      "source": [
        "### Shape of the Test data ###\n",
        "print(Y_train.shape)\n",
        "print(Y_test.shape)"
      ]
    },
    {
      "cell_type": "code",
      "execution_count": null,
      "metadata": {
        "id": "dWUsbpa-xex6",
        "outputId": "1f89cf56-4344-472b-9659-b7366e9bd113"
      },
      "outputs": [
        {
          "name": "stdout",
          "output_type": "stream",
          "text": [
            "m4fd8\n",
            "34fxm\n"
          ]
        }
      ],
      "source": [
        "print(Y_train[0])\n",
        "print(Y_test[0])"
      ]
    },
    {
      "cell_type": "code",
      "execution_count": null,
      "metadata": {
        "id": "z8uxRq--xex7"
      },
      "outputs": [],
      "source": [
        "### Convert data to 'float32' and Normalize data by dividing both X train test by 255 ###\n",
        "X_train = X_train.astype('float32')\n",
        "X_test = X_test.astype('float32')\n",
        "X_train = X_train / 255.0\n",
        "X_test = X_test / 255.0"
      ]
    },
    {
      "cell_type": "code",
      "execution_count": null,
      "metadata": {
        "id": "a-QaGsThxex7",
        "outputId": "9ab99a29-749f-41a5-85dc-6a93d8e4bbdf"
      },
      "outputs": [
        {
          "name": "stdout",
          "output_type": "stream",
          "text": [
            "float32\n",
            "float32\n",
            "[[[0.7529412  0.7529412  0.7529412 ]\n",
            "  [0.7529412  0.7529412  0.7529412 ]\n",
            "  [0.7529412  0.7529412  0.7529412 ]\n",
            "  ...\n",
            "  [0.9843137  0.9843137  0.9843137 ]\n",
            "  [0.9843137  0.9843137  0.9843137 ]\n",
            "  [0.9843137  0.9843137  0.9843137 ]]\n",
            "\n",
            " [[0.7529412  0.7529412  0.7529412 ]\n",
            "  [0.7529412  0.7529412  0.7529412 ]\n",
            "  [0.7529412  0.7529412  0.7529412 ]\n",
            "  ...\n",
            "  [0.9843137  0.9843137  0.9843137 ]\n",
            "  [0.9843137  0.9843137  0.9843137 ]\n",
            "  [0.9843137  0.9843137  0.9843137 ]]\n",
            "\n",
            " [[0.7529412  0.7529412  0.7529412 ]\n",
            "  [0.7529412  0.7529412  0.7529412 ]\n",
            "  [0.7529412  0.7529412  0.7529412 ]\n",
            "  ...\n",
            "  [0.9843137  0.9843137  0.9843137 ]\n",
            "  [0.9843137  0.9843137  0.9843137 ]\n",
            "  [0.9843137  0.9843137  0.9843137 ]]\n",
            "\n",
            " ...\n",
            "\n",
            " [[0.7647059  0.7647059  0.7647059 ]\n",
            "  [0.7647059  0.7647059  0.7647059 ]\n",
            "  [0.7647059  0.7647059  0.7647059 ]\n",
            "  ...\n",
            "  [0.99607843 0.99607843 0.99607843]\n",
            "  [0.99607843 0.99607843 0.99607843]\n",
            "  [0.99607843 0.99607843 0.99607843]]\n",
            "\n",
            " [[0.7647059  0.7647059  0.7647059 ]\n",
            "  [0.7647059  0.7647059  0.7647059 ]\n",
            "  [0.7647059  0.7647059  0.7647059 ]\n",
            "  ...\n",
            "  [0.99607843 0.99607843 0.99607843]\n",
            "  [0.99607843 0.99607843 0.99607843]\n",
            "  [0.99607843 0.99607843 0.99607843]]\n",
            "\n",
            " [[0.7647059  0.7647059  0.7647059 ]\n",
            "  [0.7647059  0.7647059  0.7647059 ]\n",
            "  [0.7647059  0.7647059  0.7647059 ]\n",
            "  ...\n",
            "  [0.99607843 0.99607843 0.99607843]\n",
            "  [0.99607843 0.99607843 0.99607843]\n",
            "  [0.99607843 0.99607843 0.99607843]]]\n",
            "[[[0.7529412  0.7529412  0.7529412 ]\n",
            "  [0.7529412  0.7529412  0.7529412 ]\n",
            "  [0.7529412  0.7529412  0.7529412 ]\n",
            "  ...\n",
            "  [0.9843137  0.9843137  0.9843137 ]\n",
            "  [0.9843137  0.9843137  0.9843137 ]\n",
            "  [0.9843137  0.9843137  0.9843137 ]]\n",
            "\n",
            " [[0.7529412  0.7529412  0.7529412 ]\n",
            "  [0.7529412  0.7529412  0.7529412 ]\n",
            "  [0.7529412  0.7529412  0.7529412 ]\n",
            "  ...\n",
            "  [0.9843137  0.9843137  0.9843137 ]\n",
            "  [0.9843137  0.9843137  0.9843137 ]\n",
            "  [0.9843137  0.9843137  0.9843137 ]]\n",
            "\n",
            " [[0.7529412  0.7529412  0.7529412 ]\n",
            "  [0.7529412  0.7529412  0.7529412 ]\n",
            "  [0.7529412  0.7529412  0.7529412 ]\n",
            "  ...\n",
            "  [0.9843137  0.9843137  0.9843137 ]\n",
            "  [0.9843137  0.9843137  0.9843137 ]\n",
            "  [0.9843137  0.9843137  0.9843137 ]]\n",
            "\n",
            " ...\n",
            "\n",
            " [[0.7647059  0.7647059  0.7647059 ]\n",
            "  [0.7647059  0.7647059  0.7647059 ]\n",
            "  [0.7647059  0.7647059  0.7647059 ]\n",
            "  ...\n",
            "  [0.99607843 0.99607843 0.99607843]\n",
            "  [0.99607843 0.99607843 0.99607843]\n",
            "  [0.99607843 0.99607843 0.99607843]]\n",
            "\n",
            " [[0.7647059  0.7647059  0.7647059 ]\n",
            "  [0.7647059  0.7647059  0.7647059 ]\n",
            "  [0.7647059  0.7647059  0.7647059 ]\n",
            "  ...\n",
            "  [0.99607843 0.99607843 0.99607843]\n",
            "  [0.99607843 0.99607843 0.99607843]\n",
            "  [0.99607843 0.99607843 0.99607843]]\n",
            "\n",
            " [[0.7647059  0.7647059  0.7647059 ]\n",
            "  [0.7647059  0.7647059  0.7647059 ]\n",
            "  [0.7647059  0.7647059  0.7647059 ]\n",
            "  ...\n",
            "  [0.99607843 0.99607843 0.99607843]\n",
            "  [0.99607843 0.99607843 0.99607843]\n",
            "  [0.99607843 0.99607843 0.99607843]]]\n"
          ]
        }
      ],
      "source": [
        "### Check converted and normalized data ###\n",
        "print(X_train.dtype)\n",
        "print(X_test.dtype)\n",
        "print(X_train[0])\n",
        "print(X_test[0])"
      ]
    },
    {
      "cell_type": "code",
      "execution_count": null,
      "metadata": {
        "id": "__w8qHVixex8"
      },
      "outputs": [],
      "source": [
        "Y_train2=Y_train.reshape(-1,1)\n",
        "Y_test2=Y_test.reshape(-1,1)\n",
        "#class_num = (354,1)"
      ]
    },
    {
      "cell_type": "code",
      "execution_count": null,
      "metadata": {
        "id": "TWELBKuAxex8",
        "outputId": "f64abb16-9d08-4929-99e7-6921e1dd57c1"
      },
      "outputs": [
        {
          "name": "stdout",
          "output_type": "stream",
          "text": [
            "(535, 1)\n",
            "(535, 1)\n"
          ]
        }
      ],
      "source": [
        "### Shape of the Test data ###\n",
        "print(Y_train2.shape)\n",
        "print(Y_test2.shape)"
      ]
    },
    {
      "cell_type": "code",
      "execution_count": null,
      "metadata": {
        "id": "2LnSkDhaxex9",
        "outputId": "f4f2a269-2a19-400a-cf25-6bf723d61792"
      },
      "outputs": [
        {
          "data": {
            "text/plain": [
              "'\\n### One-Hot Encoding to change y values from 1 dimensional arrays to 10 dimensional matrices\\nY_train = np_utils.to_categorical(Y_train)\\nY_test = np_utils.to_categorical(Y_test)\\nclass_num=Y_test.shape[1]\\n'"
            ]
          },
          "execution_count": 11,
          "metadata": {},
          "output_type": "execute_result"
        }
      ],
      "source": [
        "'''\n",
        "### One-Hot Encoding to change y values from 1 dimensional arrays to 10 dimensional matrices\n",
        "Y_train = np_utils.to_categorical(Y_train)\n",
        "Y_test = np_utils.to_categorical(Y_test)\n",
        "class_num=Y_test.shape[1]\n",
        "'''"
      ]
    },
    {
      "cell_type": "code",
      "execution_count": null,
      "metadata": {
        "id": "6wurnjnYxex-"
      },
      "outputs": [],
      "source": [
        "#Y_train=Y_train.to_string()\n",
        "#Y_test=Y_test.to_string()"
      ]
    },
    {
      "cell_type": "code",
      "execution_count": null,
      "metadata": {
        "id": "8GmX0_Rexex-",
        "outputId": "61c199eb-6638-461a-83c7-12ce15e7ab5e"
      },
      "outputs": [
        {
          "name": "stdout",
          "output_type": "stream",
          "text": [
            "[0. 0. 0. 0. 0. 0. 0. 0. 0. 0. 0. 0. 0. 0. 0. 0. 0. 0. 0. 0. 0. 0. 0. 0.\n",
            " 0. 0. 0. 0. 0. 0. 0. 0. 0. 0. 0. 0. 0. 0. 0. 0. 0. 0. 0. 0. 0. 0. 0. 0.\n",
            " 0. 0. 0. 0. 0. 0. 0. 0. 0. 0. 0. 0. 0. 0. 0. 0. 0. 0. 0. 0. 0. 0. 0. 0.\n",
            " 0. 0. 0. 0. 0. 0. 0. 0. 0. 0. 0. 0. 0. 0. 0. 0. 0. 0. 0. 0. 0. 0. 0. 0.\n",
            " 0. 0. 0. 0. 0. 0. 0. 0. 0. 0. 0. 0. 0. 0. 0. 0. 0. 0. 0. 0. 0. 1. 0. 0.\n",
            " 0. 0. 0. 0. 0. 0. 0. 0. 0. 0. 0. 0. 0. 0. 0. 0. 0. 0. 0. 0. 0. 0. 0. 0.\n",
            " 0. 0. 0. 0. 0. 0. 0. 0. 0. 0. 0. 0. 0. 0. 0. 0. 0. 0. 0. 0. 0. 0. 0. 0.\n",
            " 0. 0. 0. 0. 0. 0. 0. 0. 0. 0. 0. 0. 0. 0. 0. 0. 0. 0. 0. 0. 0. 0. 0. 0.\n",
            " 0. 0. 0. 0. 0. 0. 0. 0. 0. 0. 0. 0. 0. 0. 0. 0. 0. 0. 0. 0. 0. 0. 0. 0.\n",
            " 0. 0. 0. 0. 0. 0. 0. 0. 0. 0. 0. 0. 0. 0. 0. 0. 0. 0. 0. 0. 0. 0. 0. 0.\n",
            " 0. 0. 0. 0. 0. 0. 0. 0. 0. 0. 0. 0. 0. 0. 0. 0. 0. 0. 0. 0. 0. 0. 0. 0.\n",
            " 0. 0. 0. 0. 0. 0. 0. 0. 0. 0. 0. 0. 0. 0. 0. 0. 0. 0. 0. 0. 0. 0. 0. 0.\n",
            " 0. 0. 0. 0. 0. 0. 0. 0. 0. 0. 0. 0. 0. 0. 0. 0. 0. 0. 0. 0. 0. 0. 0. 0.\n",
            " 0. 0. 0. 0. 0. 0. 0. 0. 0. 0. 0. 0. 0. 0. 0. 0. 0. 0. 0. 0. 0. 0. 0. 0.\n",
            " 0. 0. 0. 0. 0. 0. 0. 0. 0. 0. 0. 0. 0. 0. 0. 0. 0. 0. 0. 0. 0. 0. 0. 0.\n",
            " 0. 0. 0. 0. 0. 0. 0. 0. 0. 0. 0. 0. 0. 0. 0. 0. 0. 0. 0. 0. 0. 0. 0. 0.\n",
            " 0. 0. 0. 0. 0. 0. 0. 0. 0. 0. 0. 0. 0. 0. 0. 0. 0. 0. 0. 0. 0. 0. 0. 0.\n",
            " 0. 0. 0. 0. 0. 0. 0. 0. 0. 0. 0. 0. 0. 0. 0. 0. 0. 0. 0. 0. 0. 0. 0. 0.\n",
            " 0. 0. 0. 0. 0. 0. 0. 0. 0. 0. 0. 0. 0. 0. 0. 0. 0. 0. 0. 0. 0. 0. 0. 0.\n",
            " 0. 0. 0. 0. 0. 0. 0. 0. 0. 0. 0. 0. 0. 0. 0. 0. 0. 0. 0. 0. 0. 0. 0. 0.\n",
            " 0. 0. 0. 0. 0. 0. 0. 0. 0. 0. 0. 0. 0. 0. 0. 0. 0. 0. 0. 0. 0. 0. 0. 0.\n",
            " 0. 0. 0. 0. 0. 0. 0. 0. 0. 0. 0. 0. 0. 0. 0. 0. 0. 0. 0. 0. 0. 0. 0. 0.\n",
            " 0. 0. 0. 0. 0. 0. 0.]\n"
          ]
        }
      ],
      "source": [
        "from sklearn.preprocessing import OneHotEncoder, LabelEncoder\n",
        "cat = OneHotEncoder()\n",
        "cat2 = OneHotEncoder()\n",
        "y = cat.fit_transform(Y_train2).toarray()\n",
        "y2 = cat2.fit_transform(Y_test2).toarray()\n",
        "\n",
        "class_num=y.shape[1]\n",
        "\n",
        "print(y[25])"
      ]
    },
    {
      "cell_type": "code",
      "execution_count": null,
      "metadata": {
        "id": "HsN129g8xex_",
        "outputId": "b84b7ee1-06d8-4f08-d109-b05f10261ad2"
      },
      "outputs": [
        {
          "name": "stderr",
          "output_type": "stream",
          "text": [
            "2022-05-12 02:13:50.342155: I tensorflow/core/platform/cpu_feature_guard.cc:193] This TensorFlow binary is optimized with oneAPI Deep Neural Network Library (oneDNN) to use the following CPU instructions in performance-critical operations:  AVX2 FMA\n",
            "To enable them in other operations, rebuild TensorFlow with the appropriate compiler flags.\n"
          ]
        }
      ],
      "source": [
        "### Building the CNN ###\n",
        "cnn = Sequential()\n",
        "\n",
        "cnn.add(Conv2D(32,(3,3),input_shape=X_train.shape[1:],padding='same'))\n",
        "cnn.add(Activation('relu'))\n",
        "\n",
        "cnn.add(Dropout(0.2))\n",
        "\n",
        "cnn.add(BatchNormalization())\n",
        "\n",
        "cnn.add(Conv2D(64,(3,3),padding='same'))\n",
        "cnn.add(Activation('relu'))\n",
        "\n",
        "cnn.add(MaxPooling2D(pool_size=(2,2)))\n",
        "cnn.add(Dropout(0.2))\n",
        "cnn.add(BatchNormalization())\n",
        "\n",
        "cnn.add(Conv2D(64,(3,3),padding='same'))\n",
        "cnn.add(Activation('relu'))\n",
        "cnn.add(MaxPooling2D(pool_size=(2,2)))\n",
        "cnn.add(Dropout(0.2))\n",
        "cnn.add(BatchNormalization())\n",
        "\n",
        "cnn.add(Conv2D(128,(3,3),padding='same'))\n",
        "cnn.add(Activation('relu'))\n",
        "cnn.add(Dropout(0.2))\n",
        "cnn.add(BatchNormalization())\n",
        "\n",
        "cnn.add(Flatten())\n",
        "cnn.add(Dropout(0.2))\n",
        "\n",
        "cnn.add(Dense(256,kernel_constraint=maxnorm(3)))\n",
        "cnn.add(Activation('relu'))\n",
        "cnn.add(Dropout(0.2))\n",
        "cnn.add(BatchNormalization())\n",
        "\n",
        "cnn.add(Dense(128,kernel_constraint=maxnorm(3)))\n",
        "cnn.add(Activation('relu'))\n",
        "cnn.add(Dropout(0.2))\n",
        "cnn.add(BatchNormalization())\n",
        "\n",
        "cnn.add(Dense(class_num))\n",
        "cnn.add(Activation('softmax'))"
      ]
    },
    {
      "cell_type": "code",
      "execution_count": null,
      "metadata": {
        "id": "THd-txKgxeyA",
        "outputId": "443e3213-9ecb-49b4-f913-d8994d528986"
      },
      "outputs": [
        {
          "name": "stdout",
          "output_type": "stream",
          "text": [
            "You must install pydot (`pip install pydot`) and install graphviz (see instructions at https://graphviz.gitlab.io/download/) for plot_model/model_to_dot to work.\n"
          ]
        }
      ],
      "source": [
        "### Print network for viewing ###\n",
        "plot_model(cnn, to_file='model_plot.png', show_shapes=True, show_layer_names=True)"
      ]
    },
    {
      "cell_type": "code",
      "execution_count": null,
      "metadata": {
        "id": "X2V2oTO0xeyB"
      },
      "outputs": [],
      "source": [
        "### Network Compilation ###\n",
        "epochs = 25\n",
        "optimizer = 'adam'\n",
        "\n",
        "cnn.compile(loss='categorical_crossentropy',optimizer=optimizer,metrics=['accuracy'])"
      ]
    },
    {
      "cell_type": "code",
      "execution_count": null,
      "metadata": {
        "id": "SAPNOp6txeyC",
        "outputId": "704112c3-8370-4dae-dd5e-18a26345273d"
      },
      "outputs": [
        {
          "name": "stdout",
          "output_type": "stream",
          "text": [
            "Model: \"sequential\"\n",
            "_________________________________________________________________\n",
            " Layer (type)                Output Shape              Param #   \n",
            "=================================================================\n",
            " conv2d (Conv2D)             (None, 50, 200, 32)       896       \n",
            "                                                                 \n",
            " activation (Activation)     (None, 50, 200, 32)       0         \n",
            "                                                                 \n",
            " dropout (Dropout)           (None, 50, 200, 32)       0         \n",
            "                                                                 \n",
            " batch_normalization (BatchN  (None, 50, 200, 32)      128       \n",
            " ormalization)                                                   \n",
            "                                                                 \n",
            " conv2d_1 (Conv2D)           (None, 50, 200, 64)       18496     \n",
            "                                                                 \n",
            " activation_1 (Activation)   (None, 50, 200, 64)       0         \n",
            "                                                                 \n",
            " max_pooling2d (MaxPooling2D  (None, 25, 100, 64)      0         \n",
            " )                                                               \n",
            "                                                                 \n",
            " dropout_1 (Dropout)         (None, 25, 100, 64)       0         \n",
            "                                                                 \n",
            " batch_normalization_1 (Batc  (None, 25, 100, 64)      256       \n",
            " hNormalization)                                                 \n",
            "                                                                 \n",
            " conv2d_2 (Conv2D)           (None, 25, 100, 64)       36928     \n",
            "                                                                 \n",
            " activation_2 (Activation)   (None, 25, 100, 64)       0         \n",
            "                                                                 \n",
            " max_pooling2d_1 (MaxPooling  (None, 12, 50, 64)       0         \n",
            " 2D)                                                             \n",
            "                                                                 \n",
            " dropout_2 (Dropout)         (None, 12, 50, 64)        0         \n",
            "                                                                 \n",
            " batch_normalization_2 (Batc  (None, 12, 50, 64)       256       \n",
            " hNormalization)                                                 \n",
            "                                                                 \n",
            " conv2d_3 (Conv2D)           (None, 12, 50, 128)       73856     \n",
            "                                                                 \n",
            " activation_3 (Activation)   (None, 12, 50, 128)       0         \n",
            "                                                                 \n",
            " dropout_3 (Dropout)         (None, 12, 50, 128)       0         \n",
            "                                                                 \n",
            " batch_normalization_3 (Batc  (None, 12, 50, 128)      512       \n",
            " hNormalization)                                                 \n",
            "                                                                 \n",
            " flatten (Flatten)           (None, 76800)             0         \n",
            "                                                                 \n",
            " dropout_4 (Dropout)         (None, 76800)             0         \n",
            "                                                                 \n",
            " dense (Dense)               (None, 256)               19661056  \n",
            "                                                                 \n",
            " activation_4 (Activation)   (None, 256)               0         \n",
            "                                                                 \n",
            " dropout_5 (Dropout)         (None, 256)               0         \n",
            "                                                                 \n",
            " batch_normalization_4 (Batc  (None, 256)              1024      \n",
            " hNormalization)                                                 \n",
            "                                                                 \n",
            " dense_1 (Dense)             (None, 128)               32896     \n",
            "                                                                 \n",
            " activation_5 (Activation)   (None, 128)               0         \n",
            "                                                                 \n",
            " dropout_6 (Dropout)         (None, 128)               0         \n",
            "                                                                 \n",
            " batch_normalization_5 (Batc  (None, 128)              512       \n",
            " hNormalization)                                                 \n",
            "                                                                 \n",
            " dense_2 (Dense)             (None, 535)               69015     \n",
            "                                                                 \n",
            " activation_6 (Activation)   (None, 535)               0         \n",
            "                                                                 \n",
            "=================================================================\n",
            "Total params: 19,895,831\n",
            "Trainable params: 19,894,487\n",
            "Non-trainable params: 1,344\n",
            "_________________________________________________________________\n",
            "None\n"
          ]
        }
      ],
      "source": [
        "### Model summary ###\n",
        "print(cnn.summary())"
      ]
    },
    {
      "cell_type": "code",
      "execution_count": null,
      "metadata": {
        "id": "Q0DymySMxeyD",
        "outputId": "9b40ffae-2fe2-4ca0-f960-69989222415e"
      },
      "outputs": [
        {
          "name": "stdout",
          "output_type": "stream",
          "text": [
            "Epoch 1/25\n",
            "9/9 [==============================] - 28s 3s/step - loss: 6.4849 - accuracy: 0.0000e+00 - val_loss: 6.2847 - val_accuracy: 0.0000e+00\n",
            "Epoch 2/25\n",
            "9/9 [==============================] - 27s 3s/step - loss: 6.0531 - accuracy: 0.0224 - val_loss: 6.2861 - val_accuracy: 0.0019\n",
            "Epoch 3/25\n",
            "9/9 [==============================] - 28s 3s/step - loss: 5.7182 - accuracy: 0.0505 - val_loss: 6.2898 - val_accuracy: 0.0019\n",
            "Epoch 4/25\n",
            "9/9 [==============================] - 28s 3s/step - loss: 5.4323 - accuracy: 0.1103 - val_loss: 6.2940 - val_accuracy: 0.0019\n",
            "Epoch 5/25\n",
            "9/9 [==============================] - 27s 3s/step - loss: 5.1446 - accuracy: 0.1981 - val_loss: 6.2910 - val_accuracy: 0.0019\n",
            "Epoch 6/25\n",
            "9/9 [==============================] - 27s 3s/step - loss: 4.8445 - accuracy: 0.3121 - val_loss: 6.2912 - val_accuracy: 0.0019\n",
            "Epoch 7/25\n",
            "9/9 [==============================] - 27s 3s/step - loss: 4.5478 - accuracy: 0.4841 - val_loss: 6.2930 - val_accuracy: 0.0019\n",
            "Epoch 8/25\n",
            "9/9 [==============================] - 27s 3s/step - loss: 4.2578 - accuracy: 0.6449 - val_loss: 6.2946 - val_accuracy: 0.0019\n",
            "Epoch 9/25\n",
            "9/9 [==============================] - 27s 3s/step - loss: 4.0047 - accuracy: 0.7570 - val_loss: 6.2976 - val_accuracy: 0.0019\n",
            "Epoch 10/25\n",
            "9/9 [==============================] - 27s 3s/step - loss: 3.7360 - accuracy: 0.8262 - val_loss: 6.2988 - val_accuracy: 0.0019\n",
            "Epoch 11/25\n",
            "9/9 [==============================] - 27s 3s/step - loss: 3.4929 - accuracy: 0.8654 - val_loss: 6.3014 - val_accuracy: 0.0056\n",
            "Epoch 12/25\n",
            "9/9 [==============================] - 26s 3s/step - loss: 3.2311 - accuracy: 0.9252 - val_loss: 6.3015 - val_accuracy: 0.0019\n",
            "Epoch 13/25\n",
            "9/9 [==============================] - 26s 3s/step - loss: 3.0366 - accuracy: 0.9439 - val_loss: 6.3031 - val_accuracy: 0.0037\n",
            "Epoch 14/25\n",
            "9/9 [==============================] - 26s 3s/step - loss: 2.7952 - accuracy: 0.9607 - val_loss: 6.3067 - val_accuracy: 0.0056\n",
            "Epoch 15/25\n",
            "9/9 [==============================] - 25s 3s/step - loss: 2.5564 - accuracy: 0.9832 - val_loss: 6.3121 - val_accuracy: 0.0037\n",
            "Epoch 16/25\n",
            "9/9 [==============================] - 26s 3s/step - loss: 2.3770 - accuracy: 0.9832 - val_loss: 6.3144 - val_accuracy: 0.0037\n",
            "Epoch 17/25\n",
            "9/9 [==============================] - 26s 3s/step - loss: 2.1722 - accuracy: 0.9925 - val_loss: 6.3195 - val_accuracy: 0.0019\n",
            "Epoch 18/25\n",
            "9/9 [==============================] - 26s 3s/step - loss: 2.0106 - accuracy: 0.9925 - val_loss: 6.3218 - val_accuracy: 0.0056\n",
            "Epoch 19/25\n",
            "9/9 [==============================] - 25s 3s/step - loss: 1.8315 - accuracy: 0.9981 - val_loss: 6.3254 - val_accuracy: 0.0037\n",
            "Epoch 20/25\n",
            "9/9 [==============================] - 25s 3s/step - loss: 1.6155 - accuracy: 0.9981 - val_loss: 6.3259 - val_accuracy: 0.0056\n",
            "Epoch 21/25\n",
            "9/9 [==============================] - 26s 3s/step - loss: 1.4870 - accuracy: 0.9963 - val_loss: 6.3335 - val_accuracy: 0.0019\n",
            "Epoch 22/25\n",
            "9/9 [==============================] - 25s 3s/step - loss: 1.4096 - accuracy: 1.0000 - val_loss: 6.3407 - val_accuracy: 0.0019\n",
            "Epoch 23/25\n",
            "9/9 [==============================] - 26s 3s/step - loss: 1.2451 - accuracy: 0.9944 - val_loss: 6.3352 - val_accuracy: 0.0037\n",
            "Epoch 24/25\n",
            "9/9 [==============================] - 25s 3s/step - loss: 1.1435 - accuracy: 1.0000 - val_loss: 6.3354 - val_accuracy: 0.0019\n",
            "Epoch 25/25\n",
            "9/9 [==============================] - 25s 3s/step - loss: 1.0332 - accuracy: 0.9981 - val_loss: 6.3437 - val_accuracy: 0.0019\n"
          ]
        }
      ],
      "source": [
        "### Fitting the model ###\n",
        "history = cnn.fit(X_train,y,\n",
        "                  validation_data=(X_test,y2),\n",
        "                  epochs=epochs,batch_size=64)"
      ]
    },
    {
      "cell_type": "code",
      "execution_count": null,
      "metadata": {
        "id": "YkG0lMoPxeyD",
        "outputId": "350df012-15b2-4e01-ed61-3cef31259627"
      },
      "outputs": [
        {
          "name": "stdout",
          "output_type": "stream",
          "text": [
            "Model Accuracy:0.19%\n"
          ]
        }
      ],
      "source": [
        "### Model score ###\n",
        "score = cnn.evaluate(X_test,y2,verbose=0)\n",
        "print('Model Accuracy:%.2f%%'%(score[1]*100))"
      ]
    },
    {
      "cell_type": "code",
      "execution_count": null,
      "metadata": {
        "id": "2PsWFJu7xeyE",
        "outputId": "a92d0462-aa41-413b-ae44-08c9a28d5fa7"
      },
      "outputs": [
        {
          "data": {
            "image/png": "[encoded data removed]",
            "text/plain": [
              "<Figure size 432x288 with 1 Axes>"
            ]
          },
          "metadata": {
            "needs_background": "light"
          },
          "output_type": "display_data"
        }
      ],
      "source": [
        "### Plot the comparison between training and test accuracy ###\n",
        "import matplotlib.pyplot as plt\n",
        "%matplotlib inline\n",
        "plt.plot(range(1,1+len(history.history['accuracy'])), history.history['accuracy'])\n",
        "plt.plot(range(1,1+len(history.history['val_accuracy'])), history.history['val_accuracy'])\n",
        "plt.title('Model Accuracy vs Number of Epochs')\n",
        "plt.ylabel('Accuracy')\n",
        "plt.xlabel('Epoch Number')\n",
        "plt.legend(['train', 'test'], loc='best')\n",
        "plt.xticks(np.arange(0,28,2))\n",
        "plt.show()"
      ]
    },
    {
      "cell_type": "code",
      "execution_count": null,
      "metadata": {
        "id": "Ka-hHIXixeyF",
        "outputId": "7ec1d26b-7dfc-4312-aa28-62fb47dfe4a3"
      },
      "outputs": [
        {
          "name": "stdout",
          "output_type": "stream",
          "text": [
            "(0.005607476457953453, 11)\n"
          ]
        }
      ],
      "source": [
        "### Training performance ###\n",
        "## Find highest score for the test data ##\n",
        "highest_score = max(history.history['val_accuracy'])\n",
        "\n",
        "## Find the training epoch that has the highest test accuracy score \n",
        "epoch_num = np.array(history.history['val_accuracy']).argmax()+1\n",
        "\n",
        "## Print the performance accuracy and training epoch\n",
        "print((highest_score, epoch_num))"
      ]
    },
    {
      "cell_type": "code",
      "execution_count": null,
      "metadata": {
        "id": "DMWqeNP-xeyF"
      },
      "outputs": [],
      "source": [
        ""
      ]
    }
  ],
  "metadata": {
    "kernelspec": {
      "display_name": "Python 3 (ipykernel)",
      "language": "python",
      "name": "python3"
    },
    "language_info": {
      "codemirror_mode": {
        "name": "ipython",
        "version": 3
      },
      "file_extension": ".py",
      "mimetype": "text/x-python",
      "name": "python",
      "nbconvert_exporter": "python",
      "pygments_lexer": "ipython3",
      "version": "3.9.7"
    },
    "colab": {
      "name": "AllDataCombiningCNN_CS2.ipynb",
      "provenance": [],
      "include_colab_link": true
    }
  },
  "nbformat": 4,
  "nbformat_minor": 0
}