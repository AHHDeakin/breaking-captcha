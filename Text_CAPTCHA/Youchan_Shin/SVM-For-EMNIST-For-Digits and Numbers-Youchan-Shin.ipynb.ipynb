{
 "cells": [
  {
   "cell_type": "code",
   "execution_count": 1,
   "id": "4877bc10",
   "metadata": {},
   "outputs": [
    {
     "name": "stdout",
     "output_type": "stream",
     "text": [
      "Requirement already satisfied: emnist in /Users/andyshin/opt/anaconda3/lib/python3.8/site-packages (0.0)\n",
      "Requirement already satisfied: numpy in /Users/andyshin/opt/anaconda3/lib/python3.8/site-packages (from emnist) (1.22.3)\n",
      "Requirement already satisfied: tqdm in /Users/andyshin/opt/anaconda3/lib/python3.8/site-packages (from emnist) (4.59.0)\n",
      "Requirement already satisfied: requests in /Users/andyshin/opt/anaconda3/lib/python3.8/site-packages (from emnist) (2.25.1)\n",
      "Requirement already satisfied: urllib3<1.27,>=1.21.1 in /Users/andyshin/opt/anaconda3/lib/python3.8/site-packages (from requests->emnist) (1.26.4)\n",
      "Requirement already satisfied: chardet<5,>=3.0.2 in /Users/andyshin/opt/anaconda3/lib/python3.8/site-packages (from requests->emnist) (4.0.0)\n",
      "Requirement already satisfied: certifi>=2017.4.17 in /Users/andyshin/opt/anaconda3/lib/python3.8/site-packages (from requests->emnist) (2021.10.8)\n",
      "Requirement already satisfied: idna<3,>=2.5 in /Users/andyshin/opt/anaconda3/lib/python3.8/site-packages (from requests->emnist) (2.10)\n"
     ]
    }
   ],
   "source": [
    "!pip install emnist"
   ]
  },
  {
   "cell_type": "code",
   "execution_count": 2,
   "id": "ce3244e6",
   "metadata": {},
   "outputs": [],
   "source": [
    "#Install EMIST library, import datasets of letters, Matplotlib\n",
    "import numpy as np\n",
    "import pandas as pd\n",
    "from sklearn.model_selection import train_test_split\n",
    "from sklearn.svm import SVC\n",
    "from sklearn.metrics import confusion_matrix\n",
    "from sklearn.model_selection import validation_curve\n",
    "from sklearn.model_selection import KFold\n",
    "from sklearn.model_selection import cross_val_score\n",
    "from sklearn.model_selection import GridSearchCV\n",
    "import matplotlib.pyplot as plt\n",
    "import seaborn as sns\n",
    "import matplotlib as mpl\n",
    "import matplotlib.pyplot as plt\n",
    "%matplotlib inline"
   ]
  },
  {
   "cell_type": "code",
   "execution_count": 3,
   "id": "64fd9992",
   "metadata": {},
   "outputs": [
    {
     "data": {
      "text/plain": [
       "['balanced', 'byclass', 'bymerge', 'digits', 'letters', 'mnist']"
      ]
     },
     "execution_count": 3,
     "metadata": {},
     "output_type": "execute_result"
    }
   ],
   "source": [
    "  from emnist import list_datasets\n",
    "  list_datasets()\n",
    "  #['balanced', 'byclass', 'bymerge', 'digits', 'letters', 'mnist']"
   ]
  },
  {
   "cell_type": "code",
   "execution_count": 4,
   "id": "e7bf2c23",
   "metadata": {},
   "outputs": [
    {
     "name": "stdout",
     "output_type": "stream",
     "text": [
      "(112800, 28, 28)\n",
      "(112800,)\n"
     ]
    }
   ],
   "source": [
    "from emnist import extract_training_samples\n",
    "train_images, train_labels = extract_training_samples('balanced')\n",
    "print(train_images.shape)\n",
    "print(train_labels.shape)"
   ]
  },
  {
   "cell_type": "code",
   "execution_count": 5,
   "id": "13a2266b",
   "metadata": {},
   "outputs": [
    {
     "name": "stdout",
     "output_type": "stream",
     "text": [
      "(18800, 28, 28)\n",
      "(18800,)\n"
     ]
    }
   ],
   "source": [
    "from emnist import extract_test_samples\n",
    "test_images, test_labels = extract_test_samples('balanced')\n",
    "print(test_images.shape)\n",
    "print(test_labels.shape)"
   ]
  },
  {
   "cell_type": "code",
   "execution_count": 6,
   "id": "2b2be037",
   "metadata": {},
   "outputs": [],
   "source": [
    "train_data = pd.DataFrame(train_images.reshape(112800,784))\n",
    "train_labels = pd.DataFrame(train_labels.reshape(112800))\n",
    "test_data = pd.DataFrame(test_images.reshape(18800,784))"
   ]
  },
  {
   "cell_type": "code",
   "execution_count": 7,
   "id": "3ec10714",
   "metadata": {},
   "outputs": [
    {
     "name": "stdout",
     "output_type": "stream",
     "text": [
      "(112800, 784)\n",
      "(18800, 784)\n"
     ]
    }
   ],
   "source": [
    "print(train_data.shape)\n",
    "print(test_data.shape)"
   ]
  },
  {
   "cell_type": "code",
   "execution_count": 8,
   "id": "b3ed8c8c",
   "metadata": {},
   "outputs": [
    {
     "name": "stderr",
     "output_type": "stream",
     "text": [
      "/Users/andyshin/opt/anaconda3/lib/python3.8/site-packages/seaborn/_decorators.py:36: FutureWarning: Pass the following variable as a keyword arg: x. From version 0.12, the only valid positional argument will be `data`, and passing other arguments without an explicit keyword will result in an error or misinterpretation.\n",
      "  warnings.warn(\n"
     ]
    },
    {
     "data": {
      "text/plain": [
       "<AxesSubplot:xlabel='label', ylabel='count'>"
      ]
     },
     "execution_count": 8,
     "metadata": {},
     "output_type": "execute_result"
    },
    {
     "data": {
      "image/png": "[encoded data removed]",
      "text/plain": [
       "<Figure size 432x288 with 1 Axes>"
      ]
     },
     "metadata": {
      "needs_background": "light"
     },
     "output_type": "display_data"
    }
   ],
   "source": [
    "train_data = train_labels.join(train_data,how='left',lsuffix=\"left\",rsuffix=\"\")\n",
    "train_data = train_data.rename(columns={'0left':'label'})\n",
    "sns.countplot(train_data[\"label\"])"
   ]
  },
  {
   "cell_type": "code",
   "execution_count": 9,
   "id": "1578d7d8",
   "metadata": {},
   "outputs": [
    {
     "name": "stderr",
     "output_type": "stream",
     "text": [
      "/Users/andyshin/opt/anaconda3/lib/python3.8/site-packages/seaborn/_decorators.py:36: FutureWarning: Pass the following variable as a keyword arg: x. From version 0.12, the only valid positional argument will be `data`, and passing other arguments without an explicit keyword will result in an error or misinterpretation.\n",
      "  warnings.warn(\n"
     ]
    },
    {
     "data": {
      "text/plain": [
       "0     2400\n",
       "35    2400\n",
       "26    2400\n",
       "27    2400\n",
       "28    2400\n",
       "29    2400\n",
       "30    2400\n",
       "31    2400\n",
       "32    2400\n",
       "33    2400\n",
       "34    2400\n",
       "36    2400\n",
       "24    2400\n",
       "37    2400\n",
       "38    2400\n",
       "39    2400\n",
       "40    2400\n",
       "41    2400\n",
       "42    2400\n",
       "43    2400\n",
       "44    2400\n",
       "45    2400\n",
       "25    2400\n",
       "23    2400\n",
       "1     2400\n",
       "11    2400\n",
       "2     2400\n",
       "3     2400\n",
       "4     2400\n",
       "5     2400\n",
       "6     2400\n",
       "7     2400\n",
       "8     2400\n",
       "9     2400\n",
       "10    2400\n",
       "12    2400\n",
       "22    2400\n",
       "13    2400\n",
       "14    2400\n",
       "15    2400\n",
       "16    2400\n",
       "17    2400\n",
       "18    2400\n",
       "19    2400\n",
       "20    2400\n",
       "21    2400\n",
       "46    2400\n",
       "Name: label, dtype: int64"
      ]
     },
     "execution_count": 9,
     "metadata": {},
     "output_type": "execute_result"
    },
    {
     "data": {
      "image/png": "[encoded data removed]",
      "text/plain": [
       "<Figure size 432x288 with 1 Axes>"
      ]
     },
     "metadata": {
      "needs_background": "light"
     },
     "output_type": "display_data"
    }
   ],
   "source": [
    "## Visualizing the number of class and counts in the datasets\n",
    "plt.plot(figure = (16,10))\n",
    "g = sns.countplot( train_data[\"label\"], palette = 'icefire')\n",
    "plt.title('NUmber of digit classes')\n",
    "train_data.label.astype('category').value_counts()"
   ]
  },
  {
   "cell_type": "code",
   "execution_count": 10,
   "id": "638fd996",
   "metadata": {},
   "outputs": [
    {
     "data": {
      "text/plain": [
       "Text(0.5, 1.0, 'Digit 4')"
      ]
     },
     "execution_count": 10,
     "metadata": {},
     "output_type": "execute_result"
    },
    {
     "data": {
      "image/png": "[encoded data removed]",
      "text/plain": [
       "<Figure size 432x288 with 1 Axes>"
      ]
     },
     "metadata": {
      "needs_background": "light"
     },
     "output_type": "display_data"
    }
   ],
   "source": [
    "four = train_data.iloc[3, 1:]\n",
    "four.shape\n",
    "four = four.values.reshape(28,28)\n",
    "plt.imshow(four, cmap='gray')\n",
    "plt.title(\"Digit 4\")"
   ]
  },
  {
   "cell_type": "code",
   "execution_count": 11,
   "id": "72f8323f",
   "metadata": {},
   "outputs": [
    {
     "data": {
      "text/plain": [
       "0      0.0\n",
       "1      0.0\n",
       "2      0.0\n",
       "3      0.0\n",
       "4      0.0\n",
       "      ... \n",
       "779    0.0\n",
       "780    0.0\n",
       "781    0.0\n",
       "782    0.0\n",
       "783    0.0\n",
       "Length: 784, dtype: float64"
      ]
     },
     "execution_count": 11,
     "metadata": {},
     "output_type": "execute_result"
    }
   ],
   "source": [
    "round(train_data.drop('label', axis=1).mean(), 2)"
   ]
  },
  {
   "cell_type": "code",
   "execution_count": 12,
   "id": "403d2727",
   "metadata": {},
   "outputs": [
    {
     "name": "stdout",
     "output_type": "stream",
     "text": [
      "(112800, 785)\n"
     ]
    }
   ],
   "source": [
    "y = train_data['label']\n",
    "\n",
    "## Dropping the variable 'label' from X variable \n",
    "X = train_data.drop(columns = 'label')\n",
    "\n",
    "## Printing the size of data \n",
    "print(train_data.shape)"
   ]
  },
  {
   "cell_type": "code",
   "execution_count": 13,
   "id": "c040d19d",
   "metadata": {},
   "outputs": [
    {
     "name": "stdout",
     "output_type": "stream",
     "text": [
      "X: (112800, 784)\n",
      "test_data: (18800, 784)\n"
     ]
    }
   ],
   "source": [
    "## Normalization\n",
    "\n",
    "X = X/255.0\n",
    "test_data = test_data/255.0\n",
    "\n",
    "print(\"X:\", X.shape)\n",
    "print(\"test_data:\", test_data.shape)"
   ]
  },
  {
   "cell_type": "code",
   "execution_count": 14,
   "id": "2a1792a1",
   "metadata": {},
   "outputs": [],
   "source": [
    "# confusion matrix and accuracy\n",
    "# scaling the features\n",
    "from sklearn.preprocessing import scale\n",
    "X_scaled = scale(X)\n",
    "X_train, X_test, y_train, y_test = train_test_split(X_scaled, y, test_size = 0.3, train_size = 0.2 ,random_state = 10)\n"
   ]
  },
  {
   "cell_type": "code",
   "execution_count": 15,
   "id": "3889a1c7",
   "metadata": {},
   "outputs": [],
   "source": [
    "# linear model\n",
    "\n",
    "model_linear = SVC(kernel='linear')\n",
    "model_linear.fit(X_train, y_train)\n",
    "\n",
    "# predict\n",
    "y_pred = model_linear.predict(X_test)\n",
    "\n"
   ]
  },
  {
   "cell_type": "code",
   "execution_count": 16,
   "id": "e6da03f5",
   "metadata": {},
   "outputs": [
    {
     "name": "stdout",
     "output_type": "stream",
     "text": [
      "accuracy: 0.6816193853427897 \n",
      "\n",
      "[[376   0   0 ...   1   0   3]\n",
      " [  0 422   1 ...   2   2   4]\n",
      " [  2   0 511 ...   3   0   1]\n",
      " ...\n",
      " [  2   0   2 ... 230   2   8]\n",
      " [  0   3   0 ...   1 572   4]\n",
      " [  1  19   2 ...   5  21 369]]\n"
     ]
    }
   ],
   "source": [
    "# confusion matrix and accuracy\n",
    "\n",
    "from sklearn import metrics\n",
    "from sklearn.metrics import confusion_matrix\n",
    "# accuracy\n",
    "print(\"accuracy:\", metrics.accuracy_score(y_true=y_test, y_pred=y_pred), \"\\n\")\n",
    "\n",
    "# cm\n",
    "print(metrics.confusion_matrix(y_true=y_test, y_pred=y_pred))"
   ]
  },
  {
   "cell_type": "code",
   "execution_count": 17,
   "id": "d3d44e59",
   "metadata": {},
   "outputs": [],
   "source": [
    "# non-linear model\n",
    "# using rbf kernel, C=1, default value of gamma\n",
    "\n",
    "# model\n",
    "non_linear_model = SVC(kernel='rbf')\n",
    "\n",
    "# fit\n",
    "non_linear_model.fit(X_train, y_train)\n",
    "\n",
    "# predict\n",
    "y_pred = non_linear_model.predict(X_test)"
   ]
  },
  {
   "cell_type": "code",
   "execution_count": 18,
   "id": "a79a2991",
   "metadata": {},
   "outputs": [
    {
     "name": "stdout",
     "output_type": "stream",
     "text": [
      "accuracy: 0.7656323877068558 \n",
      "\n",
      "[[441   0   0 ...   1   0   1]\n",
      " [  0 610   0 ...   0   1   4]\n",
      " [  1   0 529 ...   5   0   1]\n",
      " ...\n",
      " [  1   2   0 ... 287   3   3]\n",
      " [  0   0   0 ...   0 629   3]\n",
      " [  1  13   0 ...   2   5 513]]\n"
     ]
    }
   ],
   "source": [
    "# confusion matrix and accuracy\n",
    "\n",
    "# accuracy\n",
    "print(\"accuracy:\", metrics.accuracy_score(y_true=y_test, y_pred=y_pred), \"\\n\")\n",
    "\n",
    "# cm\n",
    "print(metrics.confusion_matrix(y_true=y_test, y_pred=y_pred))"
   ]
  },
  {
   "cell_type": "code",
   "execution_count": null,
   "id": "35b0c911",
   "metadata": {},
   "outputs": [],
   "source": []
  }
 ],
 "metadata": {
  "kernelspec": {
   "display_name": "Python 3",
   "language": "python",
   "name": "python3"
  },
  "language_info": {
   "codemirror_mode": {
    "name": "ipython",
    "version": 3
   },
   "file_extension": ".py",
   "mimetype": "text/x-python",
   "name": "python",
   "nbconvert_exporter": "python",
   "pygments_lexer": "ipython3",
   "version": "3.8.3"
  }
 },
 "nbformat": 4,
 "nbformat_minor": 5
}
