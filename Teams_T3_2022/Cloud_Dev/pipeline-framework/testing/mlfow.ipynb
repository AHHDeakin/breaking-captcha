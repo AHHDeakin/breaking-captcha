{
 "cells": [
  {
   "cell_type": "code",
   "execution_count": null,
   "metadata": {},
   "outputs": [
    {
     "ename": "",
     "evalue": "",
     "output_type": "error",
     "traceback": [
      "\u001b[1;31mFailed to start the Kernel. \n",
      "\u001b[1;31mspawn /conda ENOENT. \n",
      "\u001b[1;31mView Jupyter <a href='command:jupyter.viewOutput'>log</a> for further details."
     ]
    }
   ],
   "source": [
    "import mlflow.pyfunc\n",
    "from mlflow import MlflowClient\n",
    "\n",
    "# client = MlflowClient()\n",
    "# client.transition_model_version_stage(\n",
    "#     name=\"text-captcha\",\n",
    "#     version=1,\n",
    "#     stage=\"Staging\"\n",
    "# )\n",
    "\n",
    "from pprint import pprint\n",
    "\n",
    "client = MlflowClient()\n",
    "for rm in client.search_registered_models():\n",
    "    pprint(dict(rm), indent=4)"
   ]
  }
 ],
 "metadata": {
  "kernelspec": {
   "display_name": "Python 3.9.15 ('mlflow-env3')",
   "language": "python",
   "name": "python3"
  },
  "language_info": {
   "name": "python",
   "version": "3.9.15"
  },
  "orig_nbformat": 4,
  "vscode": {
   "interpreter": {
    "hash": "e3eae72f4d9af119a89a0db4e97b3c741ff3333163827b16f1d422b30536d91f"
   }
  }
 },
 "nbformat": 4,
 "nbformat_minor": 2
}
